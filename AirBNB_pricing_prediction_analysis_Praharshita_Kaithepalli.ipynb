{
  "cells": [
    {
      "cell_type": "markdown",
      "metadata": {
        "id": "wIjmLAUZGbsw"
      },
      "source": [
        "**AIRBNB Price Prediction Project.**\n",
        "Author:Praharshita Kaithepalli(pk2971@rit.edu)\n",
        "\n",
        "New York AirBNB data set taken from http://insideairbnb.com/get-the-data.html"
      ]
    },
    {
      "cell_type": "markdown",
      "source": [
        "## Data Processing"
      ],
      "metadata": {
        "id": "l6gZEsqgp-_B"
      }
    },
    {
      "cell_type": "markdown",
      "metadata": {
        "id": "wUeAdkw2y52r"
      },
      "source": [
        "Importing important packages and data sets."
      ]
    },
    {
      "cell_type": "code",
      "execution_count": null,
      "metadata": {
        "id": "6WuweESJK7u-"
      },
      "outputs": [],
      "source": [
        "import pandas as pd\n",
        "import numpy as np\n",
        "import sys\n",
        "import time\n",
        "import math\n",
        "import seaborn as sns\n",
        "from sklearn import preprocessing\n",
        "import matplotlib.pyplot as plt\n",
        "from sklearn.model_selection import train_test_split, cross_val_score \n",
        "from sklearn.linear_model import LinearRegression\n",
        "from sklearn.ensemble import GradientBoostingRegressor\n",
        "from sklearn.ensemble import RandomForestRegressor\n",
        "from sklearn.neighbors import KNeighborsRegressor\n",
        "from sklearn import metrics\n",
        "import lightgbm as lgb\n",
        "from sklearn import linear_model\n",
        "from sklearn.metrics import mean_absolute_error\n",
        "from sklearn import metrics\n",
        "import xgboost as xgb\n",
        "from xgboost import plot_importance\n",
        "from sklearn.metrics import explained_variance_score, mean_squared_error, r2_score"
      ]
    },
    {
      "cell_type": "markdown",
      "metadata": {
        "id": "HFUFHYfcHB9d"
      },
      "source": [
        "Importing the data set and describing it."
      ]
    },
    {
      "cell_type": "code",
      "execution_count": null,
      "metadata": {
        "id": "K_5esRQAHAQu"
      },
      "outputs": [],
      "source": [
        "import pandas as pd\n",
        "import numpy as np\n",
        "from google.colab import files\n",
        "import sys\n",
        "sys.setrecursionlimit(40000)\n",
        "upload=files.upload\n",
        "df_listings=pd.read_csv('/content/listings.csv')"
      ]
    },
    {
      "cell_type": "code",
      "execution_count": null,
      "metadata": {
        "colab": {
          "base_uri": "https://localhost:8080/"
        },
        "id": "s1XhUtjnHOlv",
        "outputId": "57ecc8a9-6a62-4d95-bb8b-7b29cdc67f34"
      },
      "outputs": [
        {
          "output_type": "stream",
          "name": "stdout",
          "text": [
            "<class 'pandas.core.frame.DataFrame'>\n",
            "RangeIndex: 16922 entries, 0 to 16921\n",
            "Data columns (total 74 columns):\n",
            " #   Column                                        Non-Null Count  Dtype  \n",
            "---  ------                                        --------------  -----  \n",
            " 0   id                                            16922 non-null  int64  \n",
            " 1   listing_url                                   16922 non-null  object \n",
            " 2   scrape_id                                     16922 non-null  int64  \n",
            " 3   last_scraped                                  16922 non-null  object \n",
            " 4   name                                          16909 non-null  object \n",
            " 5   description                                   16886 non-null  object \n",
            " 6   neighborhood_overview                         10623 non-null  object \n",
            " 7   picture_url                                   16922 non-null  object \n",
            " 8   host_id                                       16922 non-null  int64  \n",
            " 9   host_url                                      16922 non-null  object \n",
            " 10  host_name                                     16906 non-null  object \n",
            " 11  host_since                                    16906 non-null  object \n",
            " 12  host_location                                 16860 non-null  object \n",
            " 13  host_about                                    11062 non-null  object \n",
            " 14  host_response_time                            6771 non-null   object \n",
            " 15  host_response_rate                            6771 non-null   object \n",
            " 16  host_acceptance_rate                          6946 non-null   object \n",
            " 17  host_is_superhost                             16906 non-null  object \n",
            " 18  host_thumbnail_url                            16906 non-null  object \n",
            " 19  host_picture_url                              16906 non-null  object \n",
            " 20  host_neighbourhood                            14952 non-null  object \n",
            " 21  host_listings_count                           16906 non-null  float64\n",
            " 22  host_total_listings_count                     16906 non-null  float64\n",
            " 23  host_verifications                            16922 non-null  object \n",
            " 24  host_has_profile_pic                          16906 non-null  object \n",
            " 25  host_identity_verified                        16906 non-null  object \n",
            " 26  neighbourhood                                 10624 non-null  object \n",
            " 27  neighbourhood_cleansed                        16922 non-null  object \n",
            " 28  neighbourhood_group_cleansed                  16922 non-null  object \n",
            " 29  latitude                                      16922 non-null  float64\n",
            " 30  longitude                                     16922 non-null  float64\n",
            " 31  property_type                                 16922 non-null  object \n",
            " 32  room_type                                     16922 non-null  object \n",
            " 33  accommodates                                  16922 non-null  int64  \n",
            " 34  bathrooms                                     0 non-null      float64\n",
            " 35  bathrooms_text                                16876 non-null  object \n",
            " 36  bedrooms                                      15317 non-null  float64\n",
            " 37  beds                                          16892 non-null  float64\n",
            " 38  amenities                                     16922 non-null  object \n",
            " 39  price                                         16922 non-null  object \n",
            " 40  minimum_nights                                16922 non-null  int64  \n",
            " 41  maximum_nights                                16922 non-null  int64  \n",
            " 42  minimum_minimum_nights                        16922 non-null  int64  \n",
            " 43  maximum_minimum_nights                        16922 non-null  int64  \n",
            " 44  minimum_maximum_nights                        16922 non-null  int64  \n",
            " 45  maximum_maximum_nights                        16922 non-null  int64  \n",
            " 46  minimum_nights_avg_ntm                        16922 non-null  float64\n",
            " 47  maximum_nights_avg_ntm                        16922 non-null  float64\n",
            " 48  calendar_updated                              0 non-null      float64\n",
            " 49  has_availability                              16922 non-null  object \n",
            " 50  availability_30                               16922 non-null  int64  \n",
            " 51  availability_60                               16922 non-null  int64  \n",
            " 52  availability_90                               16922 non-null  int64  \n",
            " 53  availability_365                              16922 non-null  int64  \n",
            " 54  calendar_last_scraped                         16922 non-null  object \n",
            " 55  number_of_reviews                             16922 non-null  int64  \n",
            " 56  number_of_reviews_ltm                         16922 non-null  int64  \n",
            " 57  number_of_reviews_l30d                        16922 non-null  int64  \n",
            " 58  first_review                                  14148 non-null  object \n",
            " 59  last_review                                   14148 non-null  object \n",
            " 60  review_scores_rating                          14148 non-null  float64\n",
            " 61  review_scores_accuracy                        13711 non-null  float64\n",
            " 62  review_scores_cleanliness                     13722 non-null  float64\n",
            " 63  review_scores_checkin                         13704 non-null  float64\n",
            " 64  review_scores_communication                   13715 non-null  float64\n",
            " 65  review_scores_location                        13700 non-null  float64\n",
            " 66  review_scores_value                           13700 non-null  float64\n",
            " 67  license                                       0 non-null      float64\n",
            " 68  instant_bookable                              16922 non-null  object \n",
            " 69  calculated_host_listings_count                16922 non-null  int64  \n",
            " 70  calculated_host_listings_count_entire_homes   16921 non-null  float64\n",
            " 71  calculated_host_listings_count_private_rooms  16921 non-null  float64\n",
            " 72  calculated_host_listings_count_shared_rooms   16921 non-null  float64\n",
            " 73  reviews_per_month                             14147 non-null  float64\n",
            "dtypes: float64(22), int64(18), object(34)\n",
            "memory usage: 9.6+ MB\n"
          ]
        }
      ],
      "source": [
        "df_listings.info()"
      ]
    },
    {
      "cell_type": "markdown",
      "metadata": {
        "id": "Ljcb4eVZHSnF"
      },
      "source": [
        "Here in this data set we can notice that a lot of features in the data type object. We need to change the data types and drop a few columns that are irrelevant to the prediction. Also we find out how many columns have null values and find a way to fill them in."
      ]
    },
    {
      "cell_type": "code",
      "execution_count": null,
      "metadata": {
        "id": "7y71Ma7jHm1O"
      },
      "outputs": [],
      "source": [
        "df_listings.drop(['host_listings_count','host_total_listings_count','calculated_host_listings_count_entire_homes', 'calculated_host_listings_count_private_rooms','calculated_host_listings_count_shared_rooms','license','calendar_updated','bathrooms','minimum_minimum_nights','maximum_minimum_nights','minimum_maximum_nights','maximum_maximum_nights','minimum_nights_avg_ntm','maximum_nights_avg_ntm'], axis=1, inplace=True)\n",
        "#dropping irrelavant columns."
      ]
    },
    {
      "cell_type": "code",
      "execution_count": null,
      "metadata": {
        "id": "NJFpleqxH8Ie"
      },
      "outputs": [],
      "source": [
        "df_listings['price']=df_listings['price'].str.replace('$','')\n",
        "df_listings['price']=df_listings['price'].str.replace(',','')\n",
        "df_listings['price'] = df_listings['price'].astype('float')"
      ]
    },
    {
      "cell_type": "markdown",
      "metadata": {
        "id": "gvH8UXOXICKw"
      },
      "source": [
        "Price has symbol \"$\" and comma. We delete them and change the data type to float."
      ]
    },
    {
      "cell_type": "code",
      "execution_count": null,
      "metadata": {
        "id": "cP76b-yMILrF"
      },
      "outputs": [],
      "source": [
        "df_listings['bathrooms_text']=df_listings['bathrooms_text'].str.replace('bath','')\n",
        "df_listings['bathrooms_text']=df_listings['bathrooms_text'].str.replace('s','')\n",
        "df_listings['bathrooms_text']=df_listings['bathrooms_text'].str.replace('shared','')\n",
        "df_listings['bathrooms_text']=df_listings['bathrooms_text'].str.replace('hared','')\n",
        "df_listings['bathrooms_text']=df_listings['bathrooms_text'].str.replace('private','')\n",
        "df_listings['bathrooms_text']=df_listings['bathrooms_text'].str.replace('S half-','')\n",
        "df_listings['bathrooms_text'] = pd.to_numeric(df_listings['bathrooms_text'], errors='coerce')"
      ]
    },
    {
      "cell_type": "markdown",
      "metadata": {
        "id": "GRlBrIAfIScD"
      },
      "source": [
        "Similarly even in bathrooms_text column we remove all the other words and leave just the number of bathrooms. We also fill the null values with the median of number of bathrooms"
      ]
    },
    {
      "cell_type": "code",
      "execution_count": null,
      "metadata": {
        "id": "H-q5wVedJL0Z"
      },
      "outputs": [],
      "source": [
        "df_listings.replace({'f': 0, 't': 1}, inplace=True)"
      ]
    },
    {
      "cell_type": "markdown",
      "metadata": {
        "id": "NU2Vsf7kJM42"
      },
      "source": [
        "Every column with true or false values will be replaced with zeroes and ones."
      ]
    },
    {
      "cell_type": "code",
      "execution_count": null,
      "metadata": {
        "id": "fFW3cJj7JXjn"
      },
      "outputs": [],
      "source": [
        "df_listings['latitude'] = df_listings['latitude'].astype('float')\n",
        "df_listings['longitude'] = df_listings['longitude'].astype('float')"
      ]
    },
    {
      "cell_type": "code",
      "execution_count": null,
      "metadata": {
        "id": "0CsTdBGOJbx-"
      },
      "outputs": [],
      "source": [
        "df_listings['accommodates'] = df_listings['accommodates'].replace('NaN',round(df_listings['accommodates'].median()))\n",
        "df_listings['accommodates'] = df_listings['accommodates'].astype('int')"
      ]
    },
    {
      "cell_type": "code",
      "execution_count": null,
      "metadata": {
        "id": "iUpUTVnnJeOf"
      },
      "outputs": [],
      "source": [
        "df_listings['availability_30'] = df_listings['availability_30'].astype('int')\n",
        "df_listings['availability_60'] = df_listings['availability_60'].astype('int')\n",
        "df_listings['availability_90'] = df_listings['availability_90'].astype('int')\n",
        "df_listings['availability_365'] = df_listings['availability_365'].astype('int')"
      ]
    },
    {
      "cell_type": "code",
      "execution_count": null,
      "metadata": {
        "id": "g5qe4HkyJhsq"
      },
      "outputs": [],
      "source": [
        "df_listings['number_of_reviews'] = df_listings['number_of_reviews'].astype('int')"
      ]
    },
    {
      "cell_type": "markdown",
      "metadata": {
        "id": "qgw-iQ9zzUc2"
      },
      "source": [
        "Changing the data types of some more columns."
      ]
    },
    {
      "cell_type": "code",
      "execution_count": null,
      "metadata": {
        "colab": {
          "base_uri": "https://localhost:8080/"
        },
        "id": "hM-pRN0GJkk3",
        "outputId": "520da7a9-5ba1-436a-ee51-f9a2ddba8512"
      },
      "outputs": [
        {
          "output_type": "execute_result",
          "data": {
            "text/plain": [
              "0        [\"Free street parking\", \"Heating\", \"TV\", \"Dedi...\n",
              "1        [\"Dedicated workspace\", \"Iron\", \"Stove\", \"Hair...\n",
              "2        [\"Kitchen\", \"Long term stays allowed\", \"Air co...\n",
              "3        [\"Dryer\", \"BBQ grill\", \"Kitchen\", \"Long term s...\n",
              "4        [\"Hot water\", \"Bed linens\", \"Extra pillows and...\n",
              "                               ...                        \n",
              "16917    [\"Elevator\", \"Dishes and silverware\", \"Lockbox...\n",
              "16918    [\"Dishes and silverware\", \"Cooking basics\", \"L...\n",
              "16919    [\"Kitchen\", \"Wifi\", \"Hangers\", \"Shampoo\", \"Smo...\n",
              "16920    [\"Dedicated workspace\", \"Iron\", \"Stove\", \"Dish...\n",
              "16921    [\"Kitchen\", \"First aid kit\", \"Wifi\", \"Smoke al...\n",
              "Name: amenities, Length: 16922, dtype: object"
            ]
          },
          "metadata": {},
          "execution_count": 12
        }
      ],
      "source": [
        "df_listings['amenities']"
      ]
    },
    {
      "cell_type": "code",
      "execution_count": null,
      "metadata": {
        "id": "BTNn4DXpJqI7"
      },
      "outputs": [],
      "source": [
        "df_listings['number_of_amenities'] = df_listings['amenities'].str.count(\",\")+1\n",
        "df_listings['len_host_verifications'] = df_listings['host_verifications'].str.count(\",\")+1"
      ]
    },
    {
      "cell_type": "markdown",
      "metadata": {
        "id": "HEjCvFfmzdfw"
      },
      "source": [
        "We create new features as price might depend on the number of amenities offered and number of verifications that the host has."
      ]
    },
    {
      "cell_type": "code",
      "execution_count": null,
      "metadata": {
        "id": "N3r21jl8Jx9f"
      },
      "outputs": [],
      "source": [
        "df_listings['host_acceptance_rate']=df_listings['host_acceptance_rate'].str.replace('%','')\n",
        "df_listings['host_acceptance_rate']=df_listings['host_acceptance_rate'].astype('float')"
      ]
    },
    {
      "cell_type": "code",
      "execution_count": null,
      "metadata": {
        "colab": {
          "base_uri": "https://localhost:8080/"
        },
        "id": "pwIZc6D4KhTp",
        "outputId": "c2bff3a0-b2f5-4574-ffbb-98cf8447efb5"
      },
      "outputs": [
        {
          "output_type": "execute_result",
          "data": {
            "text/plain": [
              "within an hour        2919\n",
              "within a few hours    1790\n",
              "within a day          1332\n",
              "a few days or more     730\n",
              "Name: host_response_time, dtype: int64"
            ]
          },
          "metadata": {},
          "execution_count": 15
        }
      ],
      "source": [
        "df_listings.host_response_time.value_counts()"
      ]
    },
    {
      "cell_type": "code",
      "execution_count": null,
      "metadata": {
        "colab": {
          "base_uri": "https://localhost:8080/"
        },
        "id": "1EKfg-6b3BPb",
        "outputId": "3b50dfe7-7935-4048-9580-481289f38c24"
      },
      "outputs": [
        {
          "output_type": "execute_result",
          "data": {
            "text/plain": [
              "Williamsburg          1440\n",
              "Bedford-Stuyvesant    1262\n",
              "Harlem                1041\n",
              "Upper West Side        762\n",
              "Bushwick               741\n",
              "                      ... \n",
              "Bergen Beach             1\n",
              "Whitestone               1\n",
              "Tottenville              1\n",
              "Throgs Neck              1\n",
              "Mill Basin               1\n",
              "Name: neighbourhood_cleansed, Length: 205, dtype: int64"
            ]
          },
          "metadata": {},
          "execution_count": 16
        }
      ],
      "source": [
        "df_listings.neighbourhood_cleansed.value_counts()"
      ]
    },
    {
      "cell_type": "code",
      "execution_count": null,
      "metadata": {
        "id": "vJ_T0lB8WERP"
      },
      "outputs": [],
      "source": [
        "df_listings['host_response_time']=df_listings['host_response_time'].str.replace('within an hour','1')\n",
        "df_listings['host_response_time']=df_listings['host_response_time'].str.replace('within a few hours','2')\n",
        "df_listings['host_response_time']=df_listings['host_response_time'].str.replace('within a day','3')\n",
        "df_listings['host_response_time']=df_listings['host_response_time'].str.replace('a few days or more','4')\n",
        "df_listings['host_response_time']=df_listings['host_response_time'].fillna('3')\n",
        "df_listings['host_response_time']=df_listings['host_response_time'].astype('int')"
      ]
    },
    {
      "cell_type": "code",
      "execution_count": null,
      "metadata": {
        "id": "6ZyvOIXBSMqG"
      },
      "outputs": [],
      "source": [
        "df_listings['host_response_rate']=df_listings['host_response_rate'].str.replace('%','')\n",
        "df_listings['host_response_rate']=df_listings['host_response_rate'].astype('float')"
      ]
    },
    {
      "cell_type": "markdown",
      "metadata": {
        "id": "QIGAwuFjzzWY"
      },
      "source": [
        "We change the host response rate to a different values to be able to use this column to predict."
      ]
    },
    {
      "cell_type": "code",
      "execution_count": null,
      "metadata": {
        "colab": {
          "base_uri": "https://localhost:8080/"
        },
        "id": "Y0PJzTqRLW05",
        "outputId": "d1170321-b3af-46d4-b3f8-0ba857c1ea20"
      },
      "outputs": [
        {
          "output_type": "execute_result",
          "data": {
            "text/plain": [
              "id                                   0\n",
              "listing_url                          0\n",
              "scrape_id                            0\n",
              "last_scraped                         0\n",
              "name                                13\n",
              "                                  ... \n",
              "instant_bookable                     0\n",
              "calculated_host_listings_count       0\n",
              "reviews_per_month                 2775\n",
              "number_of_amenities                  0\n",
              "len_host_verifications               0\n",
              "Length: 62, dtype: int64"
            ]
          },
          "metadata": {},
          "execution_count": 19
        }
      ],
      "source": [
        "df_listings.isnull().sum()"
      ]
    },
    {
      "cell_type": "code",
      "execution_count": null,
      "metadata": {
        "id": "gDkz-P0fLzl-"
      },
      "outputs": [],
      "source": [
        "df_listings['bathrooms_text'].fillna(round(df_listings['bathrooms_text'].median()),inplace=True)\n",
        "df_listings['bedrooms']=df_listings['bedrooms'].fillna(2)\n",
        "df_listings['beds']=df_listings['beds'].fillna(2)\n",
        "df_listings['host_acceptance_rate'].fillna(round(df_listings['host_acceptance_rate'].median()),inplace=True)\n",
        "df_listings['review_scores_rating']=df_listings['review_scores_rating'].fillna(round(df_listings['review_scores_rating'].mean()))\n",
        "df_listings['review_scores_accuracy']=df_listings['review_scores_accuracy'].fillna(round(df_listings['review_scores_accuracy'].mean()))\n",
        "df_listings['review_scores_cleanliness']=df_listings['review_scores_cleanliness'].fillna(round(df_listings['review_scores_cleanliness'].mean()))\n",
        "df_listings['review_scores_checkin']=df_listings['review_scores_checkin'].fillna(round(df_listings['review_scores_checkin'].mean()))\n",
        "df_listings['review_scores_communication']=df_listings['review_scores_communication'].fillna(round(df_listings['review_scores_communication'].mean()))\n",
        "df_listings['review_scores_location']=df_listings['review_scores_location'].fillna(round(df_listings['review_scores_location'].mean()))\n",
        "df_listings['review_scores_value']=df_listings['review_scores_value'].fillna(round(df_listings['review_scores_value'].mean()))\n",
        "df_listings['reviews_per_month']=df_listings['reviews_per_month'].fillna(0.0)\n",
        "df_listings['host_is_superhost']=df_listings['host_is_superhost'].fillna(0.0)\n",
        "df_listings['host_response_rate']=df_listings['host_response_rate'].fillna(round(df_listings['host_response_rate'].median()))"
      ]
    },
    {
      "cell_type": "markdown",
      "metadata": {
        "id": "q28t3Zth0BjY"
      },
      "source": [
        "All the null values in the important columns we need are filled now."
      ]
    },
    {
      "cell_type": "markdown",
      "source": [
        "## Exploratory Data Analysis"
      ],
      "metadata": {
        "id": "ZKHfgGG2qGbY"
      }
    },
    {
      "cell_type": "code",
      "execution_count": null,
      "metadata": {
        "colab": {
          "base_uri": "https://localhost:8080/",
          "height": 248
        },
        "id": "u4si6ylPNLQa",
        "outputId": "cbbe7865-a08f-4b8e-fcb8-d072aa18a38b"
      },
      "outputs": [
        {
          "output_type": "error",
          "ename": "NameError",
          "evalue": "ignored",
          "traceback": [
            "\u001b[0;31m---------------------------------------------------------------------------\u001b[0m",
            "\u001b[0;31mNameError\u001b[0m                                 Traceback (most recent call last)",
            "\u001b[0;32m<ipython-input-1-2e3501adca63>\u001b[0m in \u001b[0;36m<module>\u001b[0;34m()\u001b[0m\n\u001b[1;32m      1\u001b[0m \u001b[0;32mimport\u001b[0m \u001b[0mseaborn\u001b[0m \u001b[0;32mas\u001b[0m \u001b[0msns\u001b[0m\u001b[0;34m\u001b[0m\u001b[0;34m\u001b[0m\u001b[0m\n\u001b[1;32m      2\u001b[0m \u001b[0;32mimport\u001b[0m \u001b[0mmatplotlib\u001b[0m\u001b[0;34m.\u001b[0m\u001b[0mpyplot\u001b[0m \u001b[0;32mas\u001b[0m \u001b[0mplt\u001b[0m\u001b[0;34m\u001b[0m\u001b[0;34m\u001b[0m\u001b[0m\n\u001b[0;32m----> 3\u001b[0;31m \u001b[0mcorrmat\u001b[0m \u001b[0;34m=\u001b[0m \u001b[0mdf_listings\u001b[0m\u001b[0;34m.\u001b[0m\u001b[0mcorr\u001b[0m\u001b[0;34m(\u001b[0m\u001b[0;34m)\u001b[0m\u001b[0;34m\u001b[0m\u001b[0;34m\u001b[0m\u001b[0m\n\u001b[0m\u001b[1;32m      4\u001b[0m \u001b[0mf\u001b[0m\u001b[0;34m,\u001b[0m \u001b[0max\u001b[0m \u001b[0;34m=\u001b[0m \u001b[0mplt\u001b[0m\u001b[0;34m.\u001b[0m\u001b[0msubplots\u001b[0m\u001b[0;34m(\u001b[0m\u001b[0mfigsize\u001b[0m\u001b[0;34m=\u001b[0m\u001b[0;34m(\u001b[0m\u001b[0;36m10\u001b[0m\u001b[0;34m,\u001b[0m \u001b[0;36m8\u001b[0m\u001b[0;34m)\u001b[0m\u001b[0;34m)\u001b[0m\u001b[0;34m\u001b[0m\u001b[0;34m\u001b[0m\u001b[0m\n\u001b[1;32m      5\u001b[0m \u001b[0msns\u001b[0m\u001b[0;34m.\u001b[0m\u001b[0mheatmap\u001b[0m\u001b[0;34m(\u001b[0m\u001b[0mcorrmat\u001b[0m\u001b[0;34m,\u001b[0m \u001b[0mvmax\u001b[0m\u001b[0;34m=\u001b[0m\u001b[0;36m.8\u001b[0m\u001b[0;34m,\u001b[0m \u001b[0msquare\u001b[0m\u001b[0;34m=\u001b[0m\u001b[0;32mTrue\u001b[0m\u001b[0;34m,\u001b[0m\u001b[0mxticklabels\u001b[0m\u001b[0;34m=\u001b[0m\u001b[0;32mTrue\u001b[0m\u001b[0;34m,\u001b[0m \u001b[0myticklabels\u001b[0m\u001b[0;34m=\u001b[0m\u001b[0;32mTrue\u001b[0m\u001b[0;34m)\u001b[0m\u001b[0;34m;\u001b[0m\u001b[0;34m\u001b[0m\u001b[0;34m\u001b[0m\u001b[0m\n",
            "\u001b[0;31mNameError\u001b[0m: name 'df_listings' is not defined"
          ]
        }
      ],
      "source": [
        "import seaborn as sns\n",
        "import matplotlib.pyplot as plt\n",
        "corrmat = df_listings.corr()\n",
        "f, ax = plt.subplots(figsize=(10, 8))\n",
        "sns.heatmap(corrmat, vmax=.8, square=True,xticklabels=True, yticklabels=True);"
      ]
    },
    {
      "cell_type": "markdown",
      "metadata": {
        "id": "SQfYcXs30IoU"
      },
      "source": [
        "We plot a heat map to see the correlation between different features. We can see that some features like reviews_ltm , reviews_l30d and review_scores have too much corelation. We will create a single feature for reviews and we will drop all the other columns. We do the same with other features as well."
      ]
    },
    {
      "cell_type": "code",
      "execution_count": null,
      "metadata": {
        "id": "TvXLVQ93NYKj"
      },
      "outputs": [],
      "source": [
        "import seaborn as sns\n",
        "import matplotlib.pyplot as plt\n",
        "plt.figure(figsize=(6,4), dpi = 150)\n",
        "sns.scatterplot(df_listings.longitude,df_listings.latitude,hue=df_listings.neighbourhood_group_cleansed)\n",
        "plt.show()"
      ]
    },
    {
      "cell_type": "markdown",
      "metadata": {
        "id": "raWEmQXr0qtM"
      },
      "source": [
        "We create a graph to plot the different airbnb listings depending on the latitude and longitude."
      ]
    },
    {
      "cell_type": "code",
      "execution_count": null,
      "metadata": {
        "id": "eAtan6yMNd0V"
      },
      "outputs": [],
      "source": [
        "import matplotlib.pyplot as plt\n",
        "y = df_listings.latitude\n",
        "x = df_listings.longitude\n",
        "p = df_listings.price\n",
        "plt.figure(figsize=(16,9))\n",
        "plt.scatter(x,y,c=p,cmap='viridis')\n",
        "plt.colorbar()\n",
        "plt.xlabel(\"Longitude\")\n",
        "plt.ylabel(\"Latitude\")\n",
        "plt.title(\"Distribution of listing prices based upon latitude and longitude\")\n",
        "plt.show()\n"
      ]
    },
    {
      "cell_type": "markdown",
      "metadata": {
        "id": "lmXUgtY_02U5"
      },
      "source": [
        "We create similar plot as above but this time we can also show the price variations based upon the latitude and longitude. Here we notice that maybe due to outliers in the price there is no accurate representation of the price on the graph. These price outliers may also skew the data. We will work on removing these outliers below and we shall plot the same graph again to see any improvement."
      ]
    },
    {
      "cell_type": "code",
      "execution_count": null,
      "metadata": {
        "id": "-aM49Rj_Nt_I"
      },
      "outputs": [],
      "source": [
        "sns.boxplot(df_listings['price'])"
      ]
    },
    {
      "cell_type": "markdown",
      "metadata": {
        "id": "ngyx33Sh1RwK"
      },
      "source": [
        "Here is a boxplot of the 'price'. We can see that there are outliers. The outliers will skew the data and can have an affect on the prediction."
      ]
    },
    {
      "cell_type": "code",
      "execution_count": null,
      "metadata": {
        "id": "ITzHI0MPN24x"
      },
      "outputs": [],
      "source": [
        "def outliers(data):\n",
        " sorted(data)\n",
        " Q1,Q3 = np.percentile(data , [25,75])\n",
        " IQR = Q3 - Q1\n",
        " lower = Q1 - (1.5 * IQR)\n",
        " upper = Q3 + (1.5 * IQR)\n",
        " \n",
        " return lower,upper"
      ]
    },
    {
      "cell_type": "markdown",
      "metadata": {
        "id": "8TzXOlGt1eU0"
      },
      "source": [
        "We will use the inter-quartile method to remove the outliers in the price."
      ]
    },
    {
      "cell_type": "code",
      "execution_count": null,
      "metadata": {
        "id": "KzpF6SCnN5Lb"
      },
      "outputs": [],
      "source": [
        "lower,upper = outliers(df_listings['price'])"
      ]
    },
    {
      "cell_type": "code",
      "execution_count": null,
      "metadata": {
        "id": "aHrlNu-eN7lO"
      },
      "outputs": [],
      "source": [
        "df_listings = df_listings[(df_listings.price>lower) & (df_listings.price<upper)]\n",
        "sns.boxplot(df_listings['price'])"
      ]
    },
    {
      "cell_type": "markdown",
      "metadata": {
        "id": "WHC2eEkIOGin"
      },
      "source": [
        "Now that the outliers are removed and the boxplot is looking way better we will plot the prices against latitude and longitude again to see if we will get better and accurate graph."
      ]
    },
    {
      "cell_type": "code",
      "execution_count": null,
      "metadata": {
        "id": "OSXeReRfOWts"
      },
      "outputs": [],
      "source": [
        "y = df_listings.latitude\n",
        "x = df_listings.longitude\n",
        "p = df_listings.price\n",
        "plt.figure(figsize=(16,9))\n",
        "plt.scatter(x,y,c=p)\n",
        "plt.colorbar()\n",
        "plt.xlabel(\"Longitude\")\n",
        "plt.ylabel(\"Latitude\")\n",
        "plt.title(\"Distribution of listing prices based upon latitude and longitude\")\n",
        "plt.show()\n"
      ]
    },
    {
      "cell_type": "markdown",
      "metadata": {
        "id": "hzjWNCmS1tVE"
      },
      "source": [
        "Now after the ouliers are removed and we plotted the same graph, we can see a more accurate representation of the prices in the graph."
      ]
    },
    {
      "cell_type": "code",
      "execution_count": null,
      "metadata": {
        "id": "Ca2EV-0UOt1q"
      },
      "outputs": [],
      "source": [
        "import matplotlib.pyplot as plt\n",
        "feq = df_listings['neighbourhood_group_cleansed'].value_counts().sort_values(ascending=True)\n",
        "feq = feq[-25:]\n",
        "feq.plot.bar()\n",
        "plt.title('Number of listings based upon neighbourhood', fontsize=14)\n",
        "plt.xlabel('Number of listings', fontsize = 12)\n",
        "plt.show()"
      ]
    },
    {
      "cell_type": "markdown",
      "metadata": {
        "id": "Q3S2yHrt2DEU"
      },
      "source": [
        "We can see that many AirBNB listings are located in the Manhattan and Brooklyn area. \n",
        "But will use the 'neighbourhood_cleansed' column in the prediction as it is more specific that 'neighbourhood_group_cleansed'."
      ]
    },
    {
      "cell_type": "code",
      "execution_count": null,
      "metadata": {
        "id": "obD9fmzqO2Cs"
      },
      "outputs": [],
      "source": [
        "feq = df_listings['accommodates'].value_counts().sort_index()\n",
        "feq.plot.bar(figsize=(10,8), width=0.5, rot=0)\n",
        "plt.title('Number of people per booking', fontsize=14)\n",
        "plt.ylabel('Number of listings', fontsize=12)\n",
        "plt.xlabel('Accommodates', fontsize=12)\n",
        "plt.show()"
      ]
    },
    {
      "cell_type": "markdown",
      "metadata": {
        "id": "7X6AYhuE2SYU"
      },
      "source": [
        "Most of the time people want to book an AirBNB which accomodates 2 people. Fortunately there are no null values in the 'accommodates' column."
      ]
    },
    {
      "cell_type": "code",
      "execution_count": null,
      "metadata": {
        "id": "YiYzUvvPPJ9B"
      },
      "outputs": [],
      "source": [
        "freq = df_listings['room_type'].value_counts().sort_values(ascending=True)\n",
        "freq.plot.barh(figsize =(12,3), width=1, color=['r','b','g','y'])\n",
        "plt.title(\"Number of listings based on roomtype\", fontsize=10)\n",
        "plt.show()"
      ]
    },
    {
      "cell_type": "markdown",
      "metadata": {
        "id": "DLpG-l7O2hIx"
      },
      "source": [
        "Based upon the above graph we can see that most listings are entire home/appartments. We will also use 'room_type' column in prediction by using one-hot encoding."
      ]
    },
    {
      "cell_type": "markdown",
      "source": [
        "## Feature Engineering"
      ],
      "metadata": {
        "id": "clA56e2NqM9e"
      }
    },
    {
      "cell_type": "code",
      "execution_count": null,
      "metadata": {
        "id": "e07zlQCHQIHQ",
        "colab": {
          "base_uri": "https://localhost:8080/",
          "height": 281
        },
        "outputId": "59043839-92cd-4d09-9bd6-a9a5143dfc12"
      },
      "outputs": [
        {
          "output_type": "error",
          "ename": "NameError",
          "evalue": "ignored",
          "traceback": [
            "\u001b[0;31m---------------------------------------------------------------------------\u001b[0m",
            "\u001b[0;31mNameError\u001b[0m                                 Traceback (most recent call last)",
            "\u001b[0;32m<ipython-input-1-e297257f57c8>\u001b[0m in \u001b[0;36m<module>\u001b[0;34m()\u001b[0m\n\u001b[0;32m----> 1\u001b[0;31m \u001b[0mdf_listings\u001b[0m\u001b[0;34m.\u001b[0m\u001b[0mdrop\u001b[0m\u001b[0;34m(\u001b[0m\u001b[0;34m[\u001b[0m\u001b[0;34m'id'\u001b[0m\u001b[0;34m,\u001b[0m\u001b[0;34m'listing_url'\u001b[0m\u001b[0;34m,\u001b[0m\u001b[0;34m'scrape_id'\u001b[0m\u001b[0;34m,\u001b[0m\u001b[0;34m'last_scraped'\u001b[0m\u001b[0;34m,\u001b[0m\u001b[0;34m'name'\u001b[0m\u001b[0;34m,\u001b[0m\u001b[0;34m'picture_url'\u001b[0m\u001b[0;34m,\u001b[0m\u001b[0;34m'host_id'\u001b[0m\u001b[0;34m,\u001b[0m\u001b[0;34m'host_url'\u001b[0m\u001b[0;34m,\u001b[0m\u001b[0;34m'host_name'\u001b[0m\u001b[0;34m,\u001b[0m\u001b[0;34m'host_location'\u001b[0m\u001b[0;34m,\u001b[0m\u001b[0;34m'host_about'\u001b[0m\u001b[0;34m,\u001b[0m\u001b[0;34m'host_thumbnail_url'\u001b[0m\u001b[0;34m,\u001b[0m\u001b[0;34m'host_picture_url'\u001b[0m\u001b[0;34m,\u001b[0m\u001b[0;34m'host_neighbourhood'\u001b[0m\u001b[0;34m,\u001b[0m\u001b[0;34m'host_has_profile_pic'\u001b[0m\u001b[0;34m,\u001b[0m\u001b[0;34m'host_identity_verified'\u001b[0m\u001b[0;34m,\u001b[0m\u001b[0;34m'calendar_last_scraped'\u001b[0m\u001b[0;34m]\u001b[0m\u001b[0;34m,\u001b[0m \u001b[0maxis\u001b[0m\u001b[0;34m=\u001b[0m\u001b[0;36m1\u001b[0m\u001b[0;34m,\u001b[0m \u001b[0minplace\u001b[0m\u001b[0;34m=\u001b[0m\u001b[0;32mTrue\u001b[0m\u001b[0;34m)\u001b[0m\u001b[0;34m\u001b[0m\u001b[0;34m\u001b[0m\u001b[0m\n\u001b[0m\u001b[1;32m      2\u001b[0m \u001b[0mdf_listings\u001b[0m\u001b[0;34m.\u001b[0m\u001b[0mdrop\u001b[0m\u001b[0;34m(\u001b[0m\u001b[0;34m[\u001b[0m\u001b[0;34m'host_since'\u001b[0m\u001b[0;34m,\u001b[0m\u001b[0;34m'description'\u001b[0m\u001b[0;34m,\u001b[0m\u001b[0;34m'neighborhood_overview'\u001b[0m\u001b[0;34m,\u001b[0m\u001b[0;34m'amenities'\u001b[0m\u001b[0;34m,\u001b[0m\u001b[0;34m'neighbourhood_group_cleansed'\u001b[0m\u001b[0;34m,\u001b[0m\u001b[0;34m'neighbourhood'\u001b[0m\u001b[0;34m,\u001b[0m\u001b[0;34m'property_type'\u001b[0m\u001b[0;34m,\u001b[0m\u001b[0;34m'first_review'\u001b[0m\u001b[0;34m,\u001b[0m\u001b[0;34m'last_review'\u001b[0m\u001b[0;34m,\u001b[0m\u001b[0;34m'instant_bookable'\u001b[0m\u001b[0;34m]\u001b[0m\u001b[0;34m,\u001b[0m \u001b[0maxis\u001b[0m\u001b[0;34m=\u001b[0m\u001b[0;36m1\u001b[0m\u001b[0;34m,\u001b[0m \u001b[0minplace\u001b[0m\u001b[0;34m=\u001b[0m\u001b[0;32mTrue\u001b[0m\u001b[0;34m)\u001b[0m\u001b[0;34m\u001b[0m\u001b[0;34m\u001b[0m\u001b[0m\n\u001b[1;32m      3\u001b[0m \u001b[0mdf_listings\u001b[0m\u001b[0;34m.\u001b[0m\u001b[0mdrop\u001b[0m\u001b[0;34m(\u001b[0m\u001b[0;34m[\u001b[0m\u001b[0;34m'host_verifications'\u001b[0m\u001b[0;34m]\u001b[0m\u001b[0;34m,\u001b[0m \u001b[0maxis\u001b[0m\u001b[0;34m=\u001b[0m\u001b[0;36m1\u001b[0m\u001b[0;34m,\u001b[0m \u001b[0minplace\u001b[0m\u001b[0;34m=\u001b[0m\u001b[0;32mTrue\u001b[0m\u001b[0;34m)\u001b[0m\u001b[0;34m\u001b[0m\u001b[0;34m\u001b[0m\u001b[0m\n",
            "\u001b[0;31mNameError\u001b[0m: name 'df_listings' is not defined"
          ]
        }
      ],
      "source": [
        "df_listings.drop(['id','listing_url','scrape_id','last_scraped','name','picture_url','host_id','host_url','host_name','host_location','host_about','host_thumbnail_url','host_picture_url','host_neighbourhood','host_has_profile_pic','host_identity_verified','calendar_last_scraped'], axis=1, inplace=True)\n",
        "df_listings.drop(['host_since','description','neighborhood_overview','amenities','neighbourhood_group_cleansed','neighbourhood','property_type','first_review','last_review','instant_bookable'], axis=1, inplace=True)\n",
        "df_listings.drop(['host_verifications'], axis=1, inplace=True)"
      ]
    },
    {
      "cell_type": "markdown",
      "metadata": {
        "id": "HMSn99PxX_FA"
      },
      "source": [
        "Dropping more unnecessary columns. Columns such as 'picture_url' and 'host_id' are totally irrerlevant to the predction of prices. Some more categorical data type columns such as 'neighbourhood_cleansed','amenities' have also been dropped."
      ]
    },
    {
      "cell_type": "code",
      "execution_count": null,
      "metadata": {
        "id": "tkf5UhG4RRKj"
      },
      "outputs": [],
      "source": [
        "df_listings.isnull().sum()"
      ]
    },
    {
      "cell_type": "code",
      "execution_count": null,
      "metadata": {
        "id": "1x5c-l4xT8dB"
      },
      "outputs": [],
      "source": [
        "df_listings['review_score']=(df_listings['review_scores_rating']+df_listings['review_scores_accuracy']+df_listings['review_scores_checkin']+df_listings['review_scores_cleanliness']+df_listings['review_scores_communication']+df_listings['review_scores_location']+df_listings['review_scores_value'])/7\n",
        "df_listings['reviews_last_month']=(df_listings['number_of_reviews_l30d']+df_listings['number_of_reviews_ltm'])/2"
      ]
    },
    {
      "cell_type": "code",
      "execution_count": null,
      "metadata": {
        "id": "qx9DtmaKUTrd"
      },
      "outputs": [],
      "source": [
        "df_listings.drop(['review_scores_rating','review_scores_accuracy','review_scores_checkin','review_scores_cleanliness','review_scores_communication','review_scores_location','review_scores_value','number_of_reviews_l30d','number_of_reviews_ltm'], axis=1, inplace=True)"
      ]
    },
    {
      "cell_type": "markdown",
      "metadata": {
        "id": "mAdziPv_3pPa"
      },
      "source": [
        "As we saw in the above heatmap there were similar columns that had a lot of corelation. So we created new features and we dropped all the extra similar columns. Now we have only one column relating to the number of reviews last month and one column representing the review scores."
      ]
    },
    {
      "cell_type": "code",
      "execution_count": null,
      "metadata": {
        "id": "d_Zc1uB3VAsf"
      },
      "outputs": [],
      "source": [
        "import seaborn as sns\n",
        "import matplotlib.pyplot as plt\n",
        "corrmat = df_listings.corr()\n",
        "f, ax = plt.subplots(figsize=(10, 8))\n",
        "sns.heatmap(corrmat, vmax=.8, square=True,xticklabels=True, yticklabels=True);"
      ]
    },
    {
      "cell_type": "markdown",
      "metadata": {
        "id": "Q14dFybNYGbz"
      },
      "source": [
        "We plotted the heat map again after the outliers are removed and dropping some columns. We can see the corelation gets a little better."
      ]
    },
    {
      "cell_type": "code",
      "execution_count": null,
      "metadata": {
        "id": "8ahFqyX2Wc2o"
      },
      "outputs": [],
      "source": [
        "df_listings= pd.concat([df_listings, pd.get_dummies(df_listings['room_type'], drop_first=False)], axis=1)\n",
        "df_listings.drop(['room_type'],axis=1, inplace=True)"
      ]
    },
    {
      "cell_type": "code",
      "execution_count": null,
      "metadata": {
        "id": "sPLsWvjpWhaP"
      },
      "outputs": [],
      "source": [
        "df_listings = pd.concat([df_listings, pd.get_dummies(df_listings['neighbourhood_cleansed'], drop_first=False)], axis=1)\n",
        "df_listings.drop(['neighbourhood_cleansed'],axis=1, inplace=True)"
      ]
    },
    {
      "cell_type": "markdown",
      "metadata": {
        "id": "CmsaoUxJ37tW"
      },
      "source": [
        "We perform one-hot encoding here to create new features based up on the type of room and neighbourhood as price might depend on these two factors."
      ]
    },
    {
      "cell_type": "code",
      "execution_count": null,
      "metadata": {
        "id": "X_dt9rZYW87T"
      },
      "outputs": [],
      "source": [
        "X = df_listings.drop('price', axis=1)\n",
        "y = df_listings.price\n",
        "X_train, X_test, y_train, y_test = train_test_split(X, y, test_size=0.2, random_state=123) \n",
        "features = ['host_response_rate','host_response_time','host_acceptance_rate','host_is_superhost','latitude','longitude','accommodates','bathrooms_text','bedrooms','beds','minimum_nights','maximum_nights','has_availability','availability_30','availability_60','availability_90','availability_365','total_availability','calculated_host_listings_count','len_host_verifications','number_of_amenities','review_score','reviews_last_month']"
      ]
    },
    {
      "cell_type": "markdown",
      "metadata": {
        "id": "sEmTPR0L6pCB"
      },
      "source": [
        "Splitting data set into training and testing sets.\n",
        "Then we use different regression models to predict the prices. We are going to print out the Mean Absolute error(MAE),Mean Square Error(MSE), Root Mean Square Error(RMSE) and R^2 value"
      ]
    },
    {
      "cell_type": "code",
      "execution_count": null,
      "metadata": {
        "id": "52oJ2mXyuPdJ"
      },
      "outputs": [],
      "source": [
        "def perform_scoring(pred,actual):\n",
        "  total = len(pred)\n",
        "  correct_predictions = 0\n",
        "  for i in range(0,len(pred)):\n",
        "    if pred[i]-35<=actual.array[i] and actual.array[i] <= pred[i]+35:\n",
        "      correct_predictions+=1\n",
        "    else:\n",
        "      continue\n",
        "  return (correct_predictions/total)*100"
      ]
    },
    {
      "cell_type": "markdown",
      "source": [
        "## Model Building"
      ],
      "metadata": {
        "id": "bCa4nhwEqP9H"
      }
    },
    {
      "cell_type": "markdown",
      "metadata": {
        "id": "HKhhcW1M8F9v"
      },
      "source": [
        "**Linear Regressor**"
      ]
    },
    {
      "cell_type": "code",
      "execution_count": null,
      "metadata": {
        "id": "xcKcNj4YaCp4"
      },
      "outputs": [],
      "source": [
        "lr = LinearRegression()\n",
        "lr.fit(X_train,y_train)\n",
        "predict_lr = lr.predict(X_test)\n"
      ]
    },
    {
      "cell_type": "code",
      "execution_count": null,
      "metadata": {
        "colab": {
          "base_uri": "https://localhost:8080/"
        },
        "id": "8X8h8GDoaCyE",
        "outputId": "937a216b-312f-4d2a-c8a7-249e6d747255"
      },
      "outputs": [
        {
          "name": "stdout",
          "output_type": "stream",
          "text": [
            "\n",
            "MAE: 36\n",
            "\n",
            "MSE: 2434.9389\n",
            "\n",
            "RMSE: 49.3451\n",
            "\n",
            "R^2: 0.5401\n"
          ]
        }
      ],
      "source": [
        "print(\"\\nMAE:\", round(mean_absolute_error(predict_lr,y_test)))\n",
        "print(\"\\nMSE:\", round(mean_squared_error(y_test,predict_lr),4))\n",
        "print(\"\\nRMSE:\", round(math.sqrt(mean_squared_error(y_test, predict_lr)),4))\n",
        "print(\"\\nR^2:\", round(r2_score(y_test,predict_lr),4))"
      ]
    },
    {
      "cell_type": "code",
      "execution_count": null,
      "metadata": {
        "colab": {
          "base_uri": "https://localhost:8080/"
        },
        "id": "xxOADwJ6uR2Z",
        "outputId": "be6d1265-56a1-4128-fa87-07c24804fb66"
      },
      "outputs": [
        {
          "data": {
            "text/plain": [
              "62.60780587633386"
            ]
          },
          "execution_count": 130,
          "metadata": {},
          "output_type": "execute_result"
        }
      ],
      "source": [
        "perform_scoring(predict_lr,y_test)"
      ]
    },
    {
      "cell_type": "markdown",
      "metadata": {
        "id": "cp2eIBtm8XsT"
      },
      "source": [
        "**Random Forest Regressor**"
      ]
    },
    {
      "cell_type": "code",
      "execution_count": null,
      "metadata": {
        "id": "9fJ4W2IhawgV"
      },
      "outputs": [],
      "source": [
        "rf = RandomForestRegressor(n_estimators=200)\n",
        "rf.fit(X_train,y_train)\n",
        "predict_rf = rf.predict(X_test)"
      ]
    },
    {
      "cell_type": "code",
      "execution_count": null,
      "metadata": {
        "colab": {
          "base_uri": "https://localhost:8080/"
        },
        "id": "qGa_OozCa1Uo",
        "outputId": "7fd25b90-ffb0-4e01-e4f6-b3cf3a00f141"
      },
      "outputs": [
        {
          "name": "stdout",
          "output_type": "stream",
          "text": [
            "\n",
            "MAE: 30\n",
            "\n",
            "MSE: 1830.152\n",
            "\n",
            "RMSE: 42.7803\n",
            "\n",
            "R^2: 0.6544\n"
          ]
        }
      ],
      "source": [
        "print(\"\\nMAE:\", round(mean_absolute_error(predict_rf,y_test)))\n",
        "print(\"\\nMSE:\", round(mean_squared_error(y_test,predict_rf),4))\n",
        "print(\"\\nRMSE:\", round(math.sqrt(mean_squared_error(y_test, predict_rf)),4))\n",
        "print(\"\\nR^2:\", round(r2_score(y_test,predict_rf),4))"
      ]
    },
    {
      "cell_type": "code",
      "execution_count": null,
      "metadata": {
        "colab": {
          "base_uri": "https://localhost:8080/"
        },
        "id": "dMuQUmDrug6C",
        "outputId": "d77a21da-1c84-471b-d28a-fbdc56048f94"
      },
      "outputs": [
        {
          "data": {
            "text/plain": [
              "69.91667884812162"
            ]
          },
          "execution_count": 133,
          "metadata": {},
          "output_type": "execute_result"
        }
      ],
      "source": [
        "perform_scoring(predict_rf,y_test)"
      ]
    },
    {
      "cell_type": "markdown",
      "metadata": {
        "id": "DBvigAyF8by1"
      },
      "source": [
        "**K-Neighbours Regressorr**"
      ]
    },
    {
      "cell_type": "code",
      "execution_count": null,
      "metadata": {
        "id": "s-IunCwPbHae"
      },
      "outputs": [],
      "source": [
        "knn=KNeighborsRegressor(algorithm='auto')\n",
        "knn.fit(X_train,y_train)\n",
        "predict_knn = knn.predict(X_test)"
      ]
    },
    {
      "cell_type": "code",
      "execution_count": null,
      "metadata": {
        "colab": {
          "base_uri": "https://localhost:8080/"
        },
        "id": "DfpTHoR1bLcB",
        "outputId": "9bcb4e05-2987-417a-9971-a45f396c88bd"
      },
      "outputs": [
        {
          "name": "stdout",
          "output_type": "stream",
          "text": [
            "\n",
            "MAE: 49\n",
            "\n",
            "MSE: 4439.8106\n",
            "\n",
            "RMSE: 66.6319\n",
            "\n",
            "R^2: 0.1615\n"
          ]
        }
      ],
      "source": [
        "print(\"\\nMAE:\", round(mean_absolute_error(predict_knn,y_test)))\n",
        "print(\"\\nMSE:\", round(mean_squared_error(y_test,predict_knn),4))\n",
        "print(\"\\nRMSE:\", round(math.sqrt(mean_squared_error(y_test, predict_knn)),4))\n",
        "print(\"\\nR^2:\", round(r2_score(y_test,predict_knn),4))"
      ]
    },
    {
      "cell_type": "code",
      "execution_count": null,
      "metadata": {
        "colab": {
          "base_uri": "https://localhost:8080/"
        },
        "id": "S3wS05uCunUb",
        "outputId": "3abf9b0c-e8bf-4260-e071-3eab1f02c9f6"
      },
      "outputs": [
        {
          "data": {
            "text/plain": [
              "48.063148662476245"
            ]
          },
          "execution_count": 136,
          "metadata": {},
          "output_type": "execute_result"
        }
      ],
      "source": [
        "perform_scoring(predict_knn,y_test)"
      ]
    },
    {
      "cell_type": "markdown",
      "metadata": {
        "id": "TNrXtpUd9LQB"
      },
      "source": [
        "**Gradient Boosting Regressor**"
      ]
    },
    {
      "cell_type": "code",
      "execution_count": null,
      "metadata": {
        "id": "7tV4Y9OgbutX"
      },
      "outputs": [],
      "source": [
        "gb = GradientBoostingRegressor(n_estimators=1000,learning_rate=0.05)\n",
        "gb.fit(X_train,y_train)\n",
        "predict_gb = gb.predict(X_test)"
      ]
    },
    {
      "cell_type": "code",
      "execution_count": null,
      "metadata": {
        "colab": {
          "base_uri": "https://localhost:8080/"
        },
        "id": "e7n0JqiBbynb",
        "outputId": "f4023c2c-e70d-4ff1-a16c-d99ec6c99af2"
      },
      "outputs": [
        {
          "name": "stdout",
          "output_type": "stream",
          "text": [
            "\n",
            "MAE: 31\n",
            "\n",
            "MSE: 1892.0396\n",
            "\n",
            "RMSE: 43.4976\n",
            "\n",
            "R^2: 0.6427\n"
          ]
        }
      ],
      "source": [
        "print(\"\\nMAE:\", round(mean_absolute_error(predict_gb,y_test)))\n",
        "print(\"\\nMSE:\", round(mean_squared_error(y_test,predict_gb),4))\n",
        "print(\"\\nRMSE:\", round(math.sqrt(mean_squared_error(y_test, predict_gb)),4))\n",
        "print(\"\\nR^2:\", round(r2_score(y_test,predict_gb),4))"
      ]
    },
    {
      "cell_type": "code",
      "execution_count": null,
      "metadata": {
        "colab": {
          "base_uri": "https://localhost:8080/"
        },
        "id": "53Z5P75uurD1",
        "outputId": "51acc65d-be74-4443-d569-1b6f333969f1"
      },
      "outputs": [
        {
          "data": {
            "text/plain": [
              "68.6156994591434"
            ]
          },
          "execution_count": 139,
          "metadata": {},
          "output_type": "execute_result"
        }
      ],
      "source": [
        "perform_scoring(predict_gb,y_test)"
      ]
    },
    {
      "cell_type": "markdown",
      "metadata": {
        "id": "u89j1twu9jmR"
      },
      "source": [
        "**Light Gradient Boosting Machine Regressor**"
      ]
    },
    {
      "cell_type": "code",
      "execution_count": null,
      "metadata": {
        "id": "9fUNTkyqYBHc"
      },
      "outputs": [],
      "source": [
        "lgbmr = lgb.LGBMRegressor(objective='regression',num_leaves=5,\n",
        "                              learning_rate=0.05, n_estimators=1000,\n",
        "                              max_bin = 55, bagging_fraction = 0.8,\n",
        "                              bagging_freq = 5, feature_fraction = 0.2319,\n",
        "                              feature_fraction_seed=9, bagging_seed=9,\n",
        "                              min_data_in_leaf =6, min_sum_hessian_in_leaf = 11)\n",
        "lgbmr.fit(X_train,y_train)\n",
        "predict_lgbmr = lgbmr.predict(X_test)\n"
      ]
    },
    {
      "cell_type": "code",
      "execution_count": null,
      "metadata": {
        "colab": {
          "base_uri": "https://localhost:8080/"
        },
        "id": "EBWQzSvrZATP",
        "outputId": "737b72c6-3f6e-460f-f462-9e9e04082cab"
      },
      "outputs": [
        {
          "name": "stdout",
          "output_type": "stream",
          "text": [
            "\n",
            "MAE: 31\n",
            "\n",
            "MSE: 1940.0043\n",
            "\n",
            "RMSE: 44.0455\n",
            "\n",
            "R^2: 0.6336\n"
          ]
        }
      ],
      "source": [
        "print(\"\\nMAE:\", round(mean_absolute_error(predict_lgbmr,y_test)))\n",
        "print(\"\\nMSE:\", round(mean_squared_error(y_test,predict_lgbmr),4))\n",
        "print(\"\\nRMSE:\", round(math.sqrt(mean_squared_error(y_test, predict_lgbmr)),4))\n",
        "print(\"\\nR^2:\", round(r2_score(y_test,predict_lgbmr),4))"
      ]
    },
    {
      "cell_type": "code",
      "execution_count": null,
      "metadata": {
        "colab": {
          "base_uri": "https://localhost:8080/"
        },
        "id": "w1vR4Evyuv95",
        "outputId": "7a425756-ca1c-450d-945d-220283bfd509"
      },
      "outputs": [
        {
          "data": {
            "text/plain": [
              "68.29410904838474"
            ]
          },
          "execution_count": 142,
          "metadata": {},
          "output_type": "execute_result"
        }
      ],
      "source": [
        "perform_scoring(predict_lgbmr,y_test)"
      ]
    },
    {
      "cell_type": "markdown",
      "metadata": {
        "id": "IKXGGLIy9pwC"
      },
      "source": [
        "**Extreme Gradient Boosting Regressor**"
      ]
    },
    {
      "cell_type": "code",
      "execution_count": null,
      "metadata": {
        "colab": {
          "base_uri": "https://localhost:8080/"
        },
        "id": "-JRCOEqnbbvy",
        "outputId": "b186dbac-b4cd-4355-8098-72c689c1405e"
      },
      "outputs": [
        {
          "name": "stdout",
          "output_type": "stream",
          "text": [
            "[23:26:02] WARNING: /workspace/src/objective/regression_obj.cu:152: reg:linear is now deprecated in favor of reg:squarederror.\n"
          ]
        }
      ],
      "source": [
        "xgbr = xgb.XGBRegressor (nobjective='regression',n_estimators=1000,learning_rate=0.05)\n",
        "xgbr.fit(X_train, y_train)\n",
        "predict_xgbr = xgbr.predict(X_test)"
      ]
    },
    {
      "cell_type": "code",
      "execution_count": null,
      "metadata": {
        "colab": {
          "base_uri": "https://localhost:8080/"
        },
        "id": "LTr-8xg3blTq",
        "outputId": "c01a44ea-7f0b-4355-9882-fc08cdaa2837"
      },
      "outputs": [
        {
          "name": "stdout",
          "output_type": "stream",
          "text": [
            "\n",
            "MAE: 31\n",
            "\n",
            "MSE: 1891.7184\n",
            "\n",
            "RMSE: 43.4939\n",
            "\n",
            "R^2: 0.6427\n"
          ]
        }
      ],
      "source": [
        "print(\"\\nMAE:\", round(mean_absolute_error(predict_xgbr,y_test)))\n",
        "print(\"\\nMSE:\", round(mean_squared_error(y_test,predict_xgbr),4))\n",
        "print(\"\\nRMSE:\", round(math.sqrt(mean_squared_error(y_test, predict_xgbr)),4))\n",
        "print(\"\\nR^2:\", round(r2_score(y_test,predict_xgbr),4))\n"
      ]
    },
    {
      "cell_type": "code",
      "execution_count": null,
      "metadata": {
        "colab": {
          "base_uri": "https://localhost:8080/"
        },
        "id": "rU-8Z9D_uzF9",
        "outputId": "cf7a1b6b-3e29-4195-93b6-d952de052111"
      },
      "outputs": [
        {
          "data": {
            "text/plain": [
              "68.58646396725625"
            ]
          },
          "execution_count": 145,
          "metadata": {},
          "output_type": "execute_result"
        }
      ],
      "source": [
        "perform_scoring(predict_xgbr,y_test)"
      ]
    },
    {
      "cell_type": "markdown",
      "metadata": {
        "id": "-mkFyIwgvicc"
      },
      "source": [
        "Adaboost"
      ]
    },
    {
      "cell_type": "code",
      "execution_count": null,
      "metadata": {
        "id": "RNwctgHzvhyC"
      },
      "outputs": [],
      "source": [
        "from sklearn.ensemble import AdaBoostRegressor"
      ]
    },
    {
      "cell_type": "code",
      "execution_count": null,
      "metadata": {
        "id": "JvwNLOm1vqcI"
      },
      "outputs": [],
      "source": [
        "ada = AdaBoostRegressor(learning_rate = 0.08,n_estimators = 100)\n",
        "ada.fit(X_train,y_train)\n",
        "predict_ada = ada.predict(X_test)"
      ]
    },
    {
      "cell_type": "code",
      "execution_count": null,
      "metadata": {
        "colab": {
          "base_uri": "https://localhost:8080/"
        },
        "id": "cr-JM_d9vqZ0",
        "outputId": "78038723-92fd-4d8b-a40e-0c48078e003e"
      },
      "outputs": [
        {
          "name": "stdout",
          "output_type": "stream",
          "text": [
            "\n",
            "MAE: 44\n",
            "\n",
            "MSE: 3050.5913\n",
            "\n",
            "RMSE: 55.2322\n",
            "\n",
            "R^2: 0.4239\n"
          ]
        }
      ],
      "source": [
        "print(\"\\nMAE:\", round(mean_absolute_error(predict_ada,y_test)))\n",
        "print(\"\\nMSE:\", round(mean_squared_error(y_test,predict_ada),4))\n",
        "print(\"\\nRMSE:\", round(math.sqrt(mean_squared_error(y_test, predict_ada)),4))\n",
        "print(\"\\nR^2:\", round(r2_score(y_test,predict_ada),4))"
      ]
    },
    {
      "cell_type": "markdown",
      "metadata": {
        "id": "Po6MocD-Wg04"
      },
      "source": [
        "Out of all XGB regressor is giving better prediction."
      ]
    },
    {
      "cell_type": "markdown",
      "source": [
        "## Hyper Parameter Tuning"
      ],
      "metadata": {
        "id": "5fv2Kg_GqSpi"
      }
    },
    {
      "cell_type": "code",
      "execution_count": null,
      "metadata": {
        "colab": {
          "base_uri": "https://localhost:8080/",
          "height": 433
        },
        "id": "9sHBZt4GWpDK",
        "outputId": "f7c60f98-276f-445f-ed32-23849fcbe109"
      },
      "outputs": [
        {
          "data": {
            "text/html": [
              "<div>\n",
              "<style scoped>\n",
              "    .dataframe tbody tr th:only-of-type {\n",
              "        vertical-align: middle;\n",
              "    }\n",
              "\n",
              "    .dataframe tbody tr th {\n",
              "        vertical-align: top;\n",
              "    }\n",
              "\n",
              "    .dataframe thead th {\n",
              "        text-align: right;\n",
              "    }\n",
              "</style>\n",
              "<table border=\"1\" class=\"dataframe\">\n",
              "  <thead>\n",
              "    <tr style=\"text-align: right;\">\n",
              "      <th></th>\n",
              "      <th>Actual</th>\n",
              "      <th>Predicted</th>\n",
              "    </tr>\n",
              "  </thead>\n",
              "  <tbody>\n",
              "    <tr>\n",
              "      <th>0</th>\n",
              "      <td>83.0</td>\n",
              "      <td>112.075706</td>\n",
              "    </tr>\n",
              "    <tr>\n",
              "      <th>1</th>\n",
              "      <td>45.0</td>\n",
              "      <td>66.485313</td>\n",
              "    </tr>\n",
              "    <tr>\n",
              "      <th>2</th>\n",
              "      <td>40.0</td>\n",
              "      <td>24.092382</td>\n",
              "    </tr>\n",
              "    <tr>\n",
              "      <th>3</th>\n",
              "      <td>141.0</td>\n",
              "      <td>174.224060</td>\n",
              "    </tr>\n",
              "    <tr>\n",
              "      <th>4</th>\n",
              "      <td>125.0</td>\n",
              "      <td>155.533035</td>\n",
              "    </tr>\n",
              "    <tr>\n",
              "      <th>...</th>\n",
              "      <td>...</td>\n",
              "      <td>...</td>\n",
              "    </tr>\n",
              "    <tr>\n",
              "      <th>6836</th>\n",
              "      <td>120.0</td>\n",
              "      <td>148.715897</td>\n",
              "    </tr>\n",
              "    <tr>\n",
              "      <th>6837</th>\n",
              "      <td>120.0</td>\n",
              "      <td>124.684967</td>\n",
              "    </tr>\n",
              "    <tr>\n",
              "      <th>6838</th>\n",
              "      <td>64.0</td>\n",
              "      <td>84.842751</td>\n",
              "    </tr>\n",
              "    <tr>\n",
              "      <th>6839</th>\n",
              "      <td>110.0</td>\n",
              "      <td>108.585281</td>\n",
              "    </tr>\n",
              "    <tr>\n",
              "      <th>6840</th>\n",
              "      <td>140.0</td>\n",
              "      <td>163.379379</td>\n",
              "    </tr>\n",
              "  </tbody>\n",
              "</table>\n",
              "<p>6841 rows × 2 columns</p>\n",
              "</div>"
            ],
            "text/plain": [
              "      Actual   Predicted\n",
              "0       83.0  112.075706\n",
              "1       45.0   66.485313\n",
              "2       40.0   24.092382\n",
              "3      141.0  174.224060\n",
              "4      125.0  155.533035\n",
              "...      ...         ...\n",
              "6836   120.0  148.715897\n",
              "6837   120.0  124.684967\n",
              "6838    64.0   84.842751\n",
              "6839   110.0  108.585281\n",
              "6840   140.0  163.379379\n",
              "\n",
              "[6841 rows x 2 columns]"
            ]
          },
          "execution_count": 149,
          "metadata": {},
          "output_type": "execute_result"
        }
      ],
      "source": [
        "y_array = np.array(list(y_test))\n",
        "predict_xgbr_array = np.array(predict_xgbr)\n",
        "df_values = pd.DataFrame({'Actual': y_array.flatten(), 'Predicted': predict_xgbr_array.flatten()})\n",
        "df_values"
      ]
    },
    {
      "cell_type": "code",
      "execution_count": null,
      "metadata": {
        "id": "Ao8W5GJoC5hZ"
      },
      "outputs": [],
      "source": [
        "dtrain_xgb = xgb.DMatrix(X_train, label=y_train)\n",
        "dtest_xgb = xgb.DMatrix(X_test, label=y_test)"
      ]
    },
    {
      "cell_type": "code",
      "execution_count": null,
      "metadata": {
        "id": "bjGXIv6sGzKa"
      },
      "outputs": [],
      "source": [
        "gridsearch_params = [\n",
        "    (max_depth, min_child_weight)\n",
        "    for max_depth in range(9,12)\n",
        "    for min_child_weight in range(5,8)\n",
        "]"
      ]
    },
    {
      "cell_type": "code",
      "execution_count": null,
      "metadata": {
        "id": "P7H1nQwjG70k"
      },
      "outputs": [],
      "source": [
        "min_mae = float(\"Inf\")\n",
        "best_params = None\n",
        "for max_depth, min_child_weight in gridsearch_params:\n",
        "    print(\"max_depth={},min_child_weight={}\".format(max_depth,min_child_weight))\n",
        "    params['max_depth'] = max_depth\n",
        "    params['min_child_weight'] = min_child_weight\n",
        "    cv_results = xgb.cv(params,dtrain_xgb,num_boost_round=num_boost_round,seed=42,nfold=5,metrics={'mae'},early_stopping_rounds=10)\n",
        "    mean_mae = cv_results['test-mae-mean'].min()\n",
        "    boost_rounds = cv_results['test-mae-mean'].argmin()\n",
        "    print(\"\\tMAE={},Rounds={}\".format(mean_mae, boost_rounds))\n",
        "    if mean_mae < min_mae:\n",
        "        min_mae = mean_mae\n",
        "        best_params = (max_depth,min_child_weight)\n",
        "print(\"max_depth={}, min_child_weight={}, MAE={}\".format(best_params[0], best_params[1], min_mae))\n",
        "maxdepth=best_params[0]\n",
        "minchildweight=best_params[1]\n"
      ]
    },
    {
      "cell_type": "code",
      "execution_count": null,
      "metadata": {
        "id": "c219TJa3KXA5"
      },
      "outputs": [],
      "source": [
        "params['max_depth'] = int(maxdepth)\n",
        "params['min_child_weight'] =int(minchildweight)"
      ]
    },
    {
      "cell_type": "code",
      "execution_count": null,
      "metadata": {
        "id": "yeqZ1qRPKcR0"
      },
      "outputs": [],
      "source": [
        "gridsearch_params = [\n",
        "    (subsample, colsample)\n",
        "    for subsample in [i/10. for i in range(7,11)]\n",
        "    for colsample in [i/10. for i in range(7,11)]\n",
        "]"
      ]
    },
    {
      "cell_type": "code",
      "execution_count": null,
      "metadata": {
        "id": "vsigrfX2Kgyk"
      },
      "outputs": [],
      "source": [
        "min_mae = float(\"Inf\")\n",
        "best_params = None\n",
        "for subsample, colsample in reversed(gridsearch_params):\n",
        "    print(\"subsample={}, colsample={}\".format(subsample,colsample))\n",
        "    params['subsample'] = subsample\n",
        "    params['colsample_bytree'] = colsample\n",
        "    cv_results = xgb.cv(params,dtrain_xgb,num_boost_round=num_boost_round,seed=42,nfold=5,metrics={'mae'},early_stopping_rounds=10)\n",
        "    mean_mae = cv_results['test-mae-mean'].min()\n",
        "    boost_rounds = cv_results['test-mae-mean'].argmin()\n",
        "    print(\"\\tMAE={},Rounds={} rounds\".format(mean_mae, boost_rounds))\n",
        "    if mean_mae < min_mae:\n",
        "        min_mae = mean_mae\n",
        "        best_params = (subsample,colsample)\n",
        "print(\"subsample={},colsample_bytree={},MAE={}\".format(best_params[0], best_params[1], min_mae))\n",
        "subsamplevalue=best_params[0]\n",
        "colsamplevalue=best_params[1]"
      ]
    },
    {
      "cell_type": "code",
      "execution_count": null,
      "metadata": {
        "id": "rV3DoN6pKlqD"
      },
      "outputs": [],
      "source": [
        "params['subsample'] = subsamplevalue\n",
        "params['colsample_bytree'] = colsamplevalue"
      ]
    },
    {
      "cell_type": "code",
      "execution_count": null,
      "metadata": {
        "colab": {
          "background_save": true
        },
        "id": "UReysazIKtwa",
        "outputId": "519304dc-6ee4-41ba-dd34-ca33b15e3fa7"
      },
      "outputs": [
        {
          "name": "stdout",
          "output_type": "stream",
          "text": [
            "eta=0.3\n",
            "[02:29:35] WARNING: /workspace/src/objective/regression_obj.cu:152: reg:linear is now deprecated in favor of reg:squarederror.\n",
            "[02:29:35] WARNING: /workspace/src/objective/regression_obj.cu:152: reg:linear is now deprecated in favor of reg:squarederror.\n",
            "[02:29:36] WARNING: /workspace/src/objective/regression_obj.cu:152: reg:linear is now deprecated in favor of reg:squarederror.\n",
            "[02:29:36] WARNING: /workspace/src/objective/regression_obj.cu:152: reg:linear is now deprecated in favor of reg:squarederror.\n",
            "[02:29:37] WARNING: /workspace/src/objective/regression_obj.cu:152: reg:linear is now deprecated in favor of reg:squarederror.\n",
            "\tMAE=30.5365466,rounds=43\n",
            "\n",
            "eta=0.2\n",
            "[02:30:35] WARNING: /workspace/src/objective/regression_obj.cu:152: reg:linear is now deprecated in favor of reg:squarederror.\n",
            "[02:30:35] WARNING: /workspace/src/objective/regression_obj.cu:152: reg:linear is now deprecated in favor of reg:squarederror.\n",
            "[02:30:36] WARNING: /workspace/src/objective/regression_obj.cu:152: reg:linear is now deprecated in favor of reg:squarederror.\n",
            "[02:30:36] WARNING: /workspace/src/objective/regression_obj.cu:152: reg:linear is now deprecated in favor of reg:squarederror.\n",
            "[02:30:37] WARNING: /workspace/src/objective/regression_obj.cu:152: reg:linear is now deprecated in favor of reg:squarederror.\n",
            "\tMAE=30.221608600000003,rounds=79\n",
            "\n",
            "eta=0.1\n",
            "[02:32:13] WARNING: /workspace/src/objective/regression_obj.cu:152: reg:linear is now deprecated in favor of reg:squarederror.\n",
            "[02:32:13] WARNING: /workspace/src/objective/regression_obj.cu:152: reg:linear is now deprecated in favor of reg:squarederror.\n",
            "[02:32:14] WARNING: /workspace/src/objective/regression_obj.cu:152: reg:linear is now deprecated in favor of reg:squarederror.\n",
            "[02:32:14] WARNING: /workspace/src/objective/regression_obj.cu:152: reg:linear is now deprecated in favor of reg:squarederror.\n",
            "[02:32:15] WARNING: /workspace/src/objective/regression_obj.cu:152: reg:linear is now deprecated in favor of reg:squarederror.\n",
            "\tMAE=29.5159198,rounds=188\n",
            "\n",
            "eta=0.05\n",
            "[02:35:46] WARNING: /workspace/src/objective/regression_obj.cu:152: reg:linear is now deprecated in favor of reg:squarederror.\n",
            "[02:35:47] WARNING: /workspace/src/objective/regression_obj.cu:152: reg:linear is now deprecated in favor of reg:squarederror.\n",
            "[02:35:47] WARNING: /workspace/src/objective/regression_obj.cu:152: reg:linear is now deprecated in favor of reg:squarederror.\n",
            "[02:35:48] WARNING: /workspace/src/objective/regression_obj.cu:152: reg:linear is now deprecated in favor of reg:squarederror.\n",
            "[02:35:48] WARNING: /workspace/src/objective/regression_obj.cu:152: reg:linear is now deprecated in favor of reg:squarederror.\n",
            "\tMAE=29.3681558,rounds=428\n",
            "\n",
            "eta=0.05, MAE=29.3681558\n"
          ]
        }
      ],
      "source": [
        "min_mae = float(\"Inf\")\n",
        "best_params = None\n",
        "for eta in [.3, .2, .1, .05]:\n",
        "    print(\"eta={}\".format(eta))\n",
        "    params['eta'] = eta\n",
        "    cv_results = xgb.cv(params,dtrain_xgb,num_boost_round=num_boost_round,seed=42,nfold=5,metrics=['mae'],early_stopping_rounds=10)\n",
        "    mean_mae = cv_results['test-mae-mean'].min()\n",
        "    boost_rounds = cv_results['test-mae-mean'].argmin()\n",
        "    print(\"\\tMAE={},rounds={}\\n\".format(mean_mae, boost_rounds))\n",
        "    if mean_mae < min_mae:\n",
        "        min_mae = mean_mae\n",
        "        best_params = eta\n",
        "print(\"eta={}, MAE={}\".format(best_params, min_mae))\n",
        "etavalue=best_params\n"
      ]
    },
    {
      "cell_type": "code",
      "execution_count": null,
      "metadata": {
        "colab": {
          "background_save": true
        },
        "id": "CX387EZVKzDL"
      },
      "outputs": [],
      "source": [
        "params['eta'] = etavalue"
      ]
    },
    {
      "cell_type": "code",
      "execution_count": null,
      "metadata": {
        "colab": {
          "background_save": true,
          "base_uri": "https://localhost:8080/"
        },
        "id": "barT80qLMQY-",
        "outputId": "a491febd-8e41-4e68-d10a-834ef3ccc67e"
      },
      "outputs": [
        {
          "data": {
            "text/plain": [
              "{'colsample_bytree': 0.7,\n",
              " 'eta': 0.05,\n",
              " 'eval_metric': 'mae',\n",
              " 'max_depth': 9,\n",
              " 'min_child_weight': 6,\n",
              " 'objective': 'reg:linear',\n",
              " 'subsample': 1.0}"
            ]
          },
          "execution_count": null,
          "metadata": {},
          "output_type": "execute_result"
        }
      ],
      "source": [
        "params"
      ]
    },
    {
      "cell_type": "code",
      "execution_count": null,
      "metadata": {
        "colab": {
          "background_save": true,
          "base_uri": "https://localhost:8080/"
        },
        "id": "uq5H8nIXMXun",
        "outputId": "96f23d25-cd52-4fb8-dc71-3189907d6e6e"
      },
      "outputs": [
        {
          "name": "stdout",
          "output_type": "stream",
          "text": [
            "[02:43:31] WARNING: /workspace/src/objective/regression_obj.cu:152: reg:linear is now deprecated in favor of reg:squarederror.\n",
            "[0]\tTest-mae:115.683\n",
            "Will train until Test-mae hasn't improved in 10 rounds.\n",
            "[1]\tTest-mae:109.939\n",
            "[2]\tTest-mae:104.49\n",
            "[3]\tTest-mae:99.2636\n",
            "[4]\tTest-mae:94.287\n",
            "[5]\tTest-mae:89.599\n",
            "[6]\tTest-mae:85.1728\n",
            "[7]\tTest-mae:80.9495\n",
            "[8]\tTest-mae:76.9672\n",
            "[9]\tTest-mae:73.1969\n",
            "[10]\tTest-mae:69.658\n",
            "[11]\tTest-mae:66.3319\n",
            "[12]\tTest-mae:63.2013\n",
            "[13]\tTest-mae:60.2724\n",
            "[14]\tTest-mae:57.5533\n",
            "[15]\tTest-mae:55.0219\n",
            "[16]\tTest-mae:52.6808\n",
            "[17]\tTest-mae:50.5136\n",
            "[18]\tTest-mae:48.5223\n",
            "[19]\tTest-mae:46.6814\n",
            "[20]\tTest-mae:45.0054\n",
            "[21]\tTest-mae:43.4736\n",
            "[22]\tTest-mae:42.0808\n",
            "[23]\tTest-mae:40.7997\n",
            "[24]\tTest-mae:39.6475\n",
            "[25]\tTest-mae:38.6047\n",
            "[26]\tTest-mae:37.6575\n",
            "[27]\tTest-mae:36.7996\n",
            "[28]\tTest-mae:36.0212\n",
            "[29]\tTest-mae:35.3352\n",
            "[30]\tTest-mae:34.722\n",
            "[31]\tTest-mae:34.1514\n",
            "[32]\tTest-mae:33.661\n",
            "[33]\tTest-mae:33.2055\n",
            "[34]\tTest-mae:32.7957\n",
            "[35]\tTest-mae:32.4307\n",
            "[36]\tTest-mae:32.1264\n",
            "[37]\tTest-mae:31.8412\n",
            "[38]\tTest-mae:31.5928\n",
            "[39]\tTest-mae:31.3605\n",
            "[40]\tTest-mae:31.1576\n",
            "[41]\tTest-mae:30.9818\n",
            "[42]\tTest-mae:30.8163\n",
            "[43]\tTest-mae:30.6741\n",
            "[44]\tTest-mae:30.5452\n",
            "[45]\tTest-mae:30.4381\n",
            "[46]\tTest-mae:30.352\n",
            "[47]\tTest-mae:30.2658\n",
            "[48]\tTest-mae:30.2023\n",
            "[49]\tTest-mae:30.1389\n",
            "[50]\tTest-mae:30.0966\n",
            "[51]\tTest-mae:30.0345\n",
            "[52]\tTest-mae:29.9953\n",
            "[53]\tTest-mae:29.9616\n",
            "[54]\tTest-mae:29.9306\n",
            "[55]\tTest-mae:29.8797\n",
            "[56]\tTest-mae:29.8521\n",
            "[57]\tTest-mae:29.8281\n",
            "[58]\tTest-mae:29.8001\n",
            "[59]\tTest-mae:29.7831\n",
            "[60]\tTest-mae:29.771\n",
            "[61]\tTest-mae:29.7506\n",
            "[62]\tTest-mae:29.7207\n",
            "[63]\tTest-mae:29.709\n",
            "[64]\tTest-mae:29.7009\n",
            "[65]\tTest-mae:29.6914\n",
            "[66]\tTest-mae:29.6816\n",
            "[67]\tTest-mae:29.681\n",
            "[68]\tTest-mae:29.6673\n",
            "[69]\tTest-mae:29.6611\n",
            "[70]\tTest-mae:29.6564\n",
            "[71]\tTest-mae:29.649\n",
            "[72]\tTest-mae:29.6296\n",
            "[73]\tTest-mae:29.6194\n",
            "[74]\tTest-mae:29.6123\n",
            "[75]\tTest-mae:29.601\n",
            "[76]\tTest-mae:29.5931\n",
            "[77]\tTest-mae:29.5824\n",
            "[78]\tTest-mae:29.5802\n",
            "[79]\tTest-mae:29.5739\n",
            "[80]\tTest-mae:29.5668\n",
            "[81]\tTest-mae:29.5639\n",
            "[82]\tTest-mae:29.565\n",
            "[83]\tTest-mae:29.542\n",
            "[84]\tTest-mae:29.5501\n",
            "[85]\tTest-mae:29.5462\n",
            "[86]\tTest-mae:29.5334\n",
            "[87]\tTest-mae:29.5275\n",
            "[88]\tTest-mae:29.5138\n",
            "[89]\tTest-mae:29.5002\n",
            "[90]\tTest-mae:29.4995\n",
            "[91]\tTest-mae:29.4897\n",
            "[92]\tTest-mae:29.482\n",
            "[93]\tTest-mae:29.4722\n",
            "[94]\tTest-mae:29.4647\n",
            "[95]\tTest-mae:29.4523\n",
            "[96]\tTest-mae:29.4521\n",
            "[97]\tTest-mae:29.4322\n",
            "[98]\tTest-mae:29.4256\n",
            "[99]\tTest-mae:29.4196\n",
            "[100]\tTest-mae:29.4122\n",
            "[101]\tTest-mae:29.4142\n",
            "[102]\tTest-mae:29.4084\n",
            "[103]\tTest-mae:29.4011\n",
            "[104]\tTest-mae:29.3806\n",
            "[105]\tTest-mae:29.3683\n",
            "[106]\tTest-mae:29.3588\n",
            "[107]\tTest-mae:29.3575\n",
            "[108]\tTest-mae:29.3532\n",
            "[109]\tTest-mae:29.3491\n",
            "[110]\tTest-mae:29.3444\n",
            "[111]\tTest-mae:29.3458\n",
            "[112]\tTest-mae:29.3463\n",
            "[113]\tTest-mae:29.3385\n",
            "[114]\tTest-mae:29.3339\n",
            "[115]\tTest-mae:29.3354\n",
            "[116]\tTest-mae:29.3281\n",
            "[117]\tTest-mae:29.3211\n",
            "[118]\tTest-mae:29.3076\n",
            "[119]\tTest-mae:29.3095\n",
            "[120]\tTest-mae:29.3036\n",
            "[121]\tTest-mae:29.2973\n",
            "[122]\tTest-mae:29.2768\n",
            "[123]\tTest-mae:29.275\n",
            "[124]\tTest-mae:29.2739\n",
            "[125]\tTest-mae:29.2711\n",
            "[126]\tTest-mae:29.2703\n",
            "[127]\tTest-mae:29.2649\n",
            "[128]\tTest-mae:29.2552\n",
            "[129]\tTest-mae:29.25\n",
            "[130]\tTest-mae:29.2468\n",
            "[131]\tTest-mae:29.2442\n",
            "[132]\tTest-mae:29.2389\n",
            "[133]\tTest-mae:29.231\n",
            "[134]\tTest-mae:29.2228\n",
            "[135]\tTest-mae:29.2221\n",
            "[136]\tTest-mae:29.2192\n",
            "[137]\tTest-mae:29.2172\n",
            "[138]\tTest-mae:29.2134\n",
            "[139]\tTest-mae:29.2108\n",
            "[140]\tTest-mae:29.2129\n",
            "[141]\tTest-mae:29.2118\n",
            "[142]\tTest-mae:29.2076\n",
            "[143]\tTest-mae:29.2053\n",
            "[144]\tTest-mae:29.1957\n",
            "[145]\tTest-mae:29.1968\n",
            "[146]\tTest-mae:29.1899\n",
            "[147]\tTest-mae:29.1866\n",
            "[148]\tTest-mae:29.1858\n",
            "[149]\tTest-mae:29.1755\n",
            "[150]\tTest-mae:29.1692\n",
            "[151]\tTest-mae:29.1695\n",
            "[152]\tTest-mae:29.1651\n",
            "[153]\tTest-mae:29.1614\n",
            "[154]\tTest-mae:29.1591\n",
            "[155]\tTest-mae:29.1515\n",
            "[156]\tTest-mae:29.1464\n",
            "[157]\tTest-mae:29.1463\n",
            "[158]\tTest-mae:29.1455\n",
            "[159]\tTest-mae:29.143\n",
            "[160]\tTest-mae:29.139\n",
            "[161]\tTest-mae:29.1316\n",
            "[162]\tTest-mae:29.1272\n",
            "[163]\tTest-mae:29.1269\n",
            "[164]\tTest-mae:29.1237\n",
            "[165]\tTest-mae:29.1232\n",
            "[166]\tTest-mae:29.1152\n",
            "[167]\tTest-mae:29.1143\n",
            "[168]\tTest-mae:29.1134\n",
            "[169]\tTest-mae:29.1162\n",
            "[170]\tTest-mae:29.1158\n",
            "[171]\tTest-mae:29.1152\n",
            "[172]\tTest-mae:29.1162\n",
            "[173]\tTest-mae:29.1156\n",
            "[174]\tTest-mae:29.1156\n",
            "[175]\tTest-mae:29.1144\n",
            "[176]\tTest-mae:29.1116\n",
            "[177]\tTest-mae:29.1004\n",
            "[178]\tTest-mae:29.0874\n",
            "[179]\tTest-mae:29.0873\n",
            "[180]\tTest-mae:29.087\n",
            "[181]\tTest-mae:29.0867\n",
            "[182]\tTest-mae:29.0869\n",
            "[183]\tTest-mae:29.0841\n",
            "[184]\tTest-mae:29.0844\n",
            "[185]\tTest-mae:29.0837\n",
            "[186]\tTest-mae:29.0762\n",
            "[187]\tTest-mae:29.0772\n",
            "[188]\tTest-mae:29.0752\n",
            "[189]\tTest-mae:29.0702\n",
            "[190]\tTest-mae:29.0586\n",
            "[191]\tTest-mae:29.0481\n",
            "[192]\tTest-mae:29.0505\n",
            "[193]\tTest-mae:29.0498\n",
            "[194]\tTest-mae:29.0471\n",
            "[195]\tTest-mae:29.0459\n",
            "[196]\tTest-mae:29.0421\n",
            "[197]\tTest-mae:29.0395\n",
            "[198]\tTest-mae:29.0393\n",
            "[199]\tTest-mae:29.0394\n",
            "[200]\tTest-mae:29.0357\n",
            "[201]\tTest-mae:29.0383\n",
            "[202]\tTest-mae:29.0359\n",
            "[203]\tTest-mae:29.034\n",
            "[204]\tTest-mae:29.0268\n",
            "[205]\tTest-mae:29.0256\n",
            "[206]\tTest-mae:29.0231\n",
            "[207]\tTest-mae:29.0198\n",
            "[208]\tTest-mae:29.0187\n",
            "[209]\tTest-mae:29.0193\n",
            "[210]\tTest-mae:29.0192\n",
            "[211]\tTest-mae:29.0113\n",
            "[212]\tTest-mae:29.0096\n",
            "[213]\tTest-mae:29.008\n",
            "[214]\tTest-mae:29.0062\n",
            "[215]\tTest-mae:29.0067\n",
            "[216]\tTest-mae:29.0051\n",
            "[217]\tTest-mae:29.0039\n",
            "[218]\tTest-mae:29.0033\n",
            "[219]\tTest-mae:29.0038\n",
            "[220]\tTest-mae:29.002\n",
            "[221]\tTest-mae:28.9985\n",
            "[222]\tTest-mae:28.9984\n",
            "[223]\tTest-mae:29.0005\n",
            "[224]\tTest-mae:28.9996\n",
            "[225]\tTest-mae:28.995\n",
            "[226]\tTest-mae:28.9842\n",
            "[227]\tTest-mae:28.9862\n",
            "[228]\tTest-mae:28.9886\n",
            "[229]\tTest-mae:28.979\n",
            "[230]\tTest-mae:28.979\n",
            "[231]\tTest-mae:28.9791\n",
            "[232]\tTest-mae:28.9745\n",
            "[233]\tTest-mae:28.9725\n",
            "[234]\tTest-mae:28.9713\n",
            "[235]\tTest-mae:28.9723\n",
            "[236]\tTest-mae:28.9707\n",
            "[237]\tTest-mae:28.9609\n",
            "[238]\tTest-mae:28.9591\n",
            "[239]\tTest-mae:28.9589\n",
            "[240]\tTest-mae:28.955\n",
            "[241]\tTest-mae:28.9508\n",
            "[242]\tTest-mae:28.9507\n",
            "[243]\tTest-mae:28.9517\n",
            "[244]\tTest-mae:28.9473\n",
            "[245]\tTest-mae:28.9442\n",
            "[246]\tTest-mae:28.9445\n",
            "[247]\tTest-mae:28.9446\n",
            "[248]\tTest-mae:28.9393\n",
            "[249]\tTest-mae:28.9407\n",
            "[250]\tTest-mae:28.9424\n",
            "[251]\tTest-mae:28.9394\n",
            "[252]\tTest-mae:28.9372\n",
            "[253]\tTest-mae:28.9341\n",
            "[254]\tTest-mae:28.9357\n",
            "[255]\tTest-mae:28.9348\n",
            "[256]\tTest-mae:28.9326\n",
            "[257]\tTest-mae:28.9303\n",
            "[258]\tTest-mae:28.9288\n",
            "[259]\tTest-mae:28.9218\n",
            "[260]\tTest-mae:28.9282\n",
            "[261]\tTest-mae:28.9291\n",
            "[262]\tTest-mae:28.9301\n",
            "[263]\tTest-mae:28.9298\n",
            "[264]\tTest-mae:28.9288\n",
            "[265]\tTest-mae:28.9288\n",
            "[266]\tTest-mae:28.9254\n",
            "[267]\tTest-mae:28.9262\n",
            "[268]\tTest-mae:28.9239\n",
            "[269]\tTest-mae:28.9238\n",
            "Stopping. Best iteration:\n",
            "[259]\tTest-mae:28.9218\n",
            "\n"
          ]
        },
        {
          "ename": "NameError",
          "evalue": "ignored",
          "output_type": "error",
          "traceback": [
            "\u001b[0;31m---------------------------------------------------------------------------\u001b[0m",
            "\u001b[0;31mNameError\u001b[0m                                 Traceback (most recent call last)",
            "\u001b[0;32m<ipython-input-77-3b78a4078757>\u001b[0m in \u001b[0;36m<module>\u001b[0;34m()\u001b[0m\n\u001b[1;32m      1\u001b[0m \u001b[0mxgb_train\u001b[0m \u001b[0;34m=\u001b[0m \u001b[0mxgb\u001b[0m\u001b[0;34m.\u001b[0m\u001b[0mtrain\u001b[0m\u001b[0;34m(\u001b[0m\u001b[0mparams\u001b[0m\u001b[0;34m,\u001b[0m\u001b[0mdtrain_xgb\u001b[0m\u001b[0;34m,\u001b[0m\u001b[0mnum_boost_round\u001b[0m\u001b[0;34m=\u001b[0m\u001b[0mnum_boost_round\u001b[0m\u001b[0;34m,\u001b[0m\u001b[0mevals\u001b[0m\u001b[0;34m=\u001b[0m\u001b[0;34m[\u001b[0m\u001b[0;34m(\u001b[0m\u001b[0mdtest_xgb\u001b[0m\u001b[0;34m,\u001b[0m \u001b[0;34m\"Test\"\u001b[0m\u001b[0;34m)\u001b[0m\u001b[0;34m]\u001b[0m\u001b[0;34m,\u001b[0m\u001b[0mearly_stopping_rounds\u001b[0m\u001b[0;34m=\u001b[0m\u001b[0;36m10\u001b[0m\u001b[0;34m)\u001b[0m\u001b[0;34m\u001b[0m\u001b[0;34m\u001b[0m\u001b[0m\n\u001b[0;32m----> 2\u001b[0;31m \u001b[0mprint\u001b[0m\u001b[0;34m(\u001b[0m\u001b[0;34m\"MAE={:.2f},rounds={}\"\u001b[0m\u001b[0;34m.\u001b[0m\u001b[0mformat\u001b[0m\u001b[0;34m(\u001b[0m\u001b[0mxgb_train\u001b[0m\u001b[0;34m.\u001b[0m\u001b[0mbest_score\u001b[0m\u001b[0;34m,\u001b[0m \u001b[0mmodel\u001b[0m\u001b[0;34m.\u001b[0m\u001b[0mbest_iteration\u001b[0m\u001b[0;34m+\u001b[0m\u001b[0;36m1\u001b[0m\u001b[0;34m)\u001b[0m\u001b[0;34m)\u001b[0m\u001b[0;34m\u001b[0m\u001b[0;34m\u001b[0m\u001b[0m\n\u001b[0m",
            "\u001b[0;31mNameError\u001b[0m: name 'model' is not defined"
          ]
        }
      ],
      "source": [
        "xgb_train = xgb.train(params,dtrain_xgb,num_boost_round=num_boost_round,evals=[(dtest_xgb, \"Test\")],early_stopping_rounds=10)\n",
        "print(\"MAE={:.2f},rounds={}\".format(xgb_train.best_score, model.best_iteration+1))"
      ]
    },
    {
      "cell_type": "code",
      "execution_count": null,
      "metadata": {
        "colab": {
          "background_save": true
        },
        "id": "30oVg9nMYmgY"
      },
      "outputs": [],
      "source": [
        "num_boost_round = xgb_train.best_iteration + 1\n",
        "best_model_xgb = xgb.train(params,dtrain_xgb,num_boost_round=num_boost_round,evals=[(dtest_xgb, \"Test\")])"
      ]
    },
    {
      "cell_type": "code",
      "execution_count": null,
      "metadata": {
        "colab": {
          "background_save": true
        },
        "id": "4UMSvkXkZkm3"
      },
      "outputs": [],
      "source": [
        "predict_xgbr = best_model_xgb.predict(dtest_xgb)\n"
      ]
    },
    {
      "cell_type": "code",
      "execution_count": null,
      "metadata": {
        "colab": {
          "background_save": true
        },
        "id": "bqntHk9vaCu9"
      },
      "outputs": [],
      "source": [
        "print(\"\\nMAE:\", round(mean_absolute_error(predict_xgbr,y_test)))\n",
        "print(\"\\nMSE:\", round(mean_squared_error(y_test,predict_xgbr),4))\n",
        "print(\"\\nRMSE:\", round(math.sqrt(mean_squared_error(y_test, predict_xgbr)),4))\n",
        "print(\"\\nR^2:\", round(r2_score(y_test,predict_xgbr),4))"
      ]
    },
    {
      "cell_type": "code",
      "execution_count": null,
      "metadata": {
        "colab": {
          "background_save": true
        },
        "id": "E7-zsM8UaDg5"
      },
      "outputs": [],
      "source": [
        "perform_scoring(predict_xgbr,y_test)"
      ]
    },
    {
      "cell_type": "code",
      "execution_count": null,
      "metadata": {
        "colab": {
          "background_save": true
        },
        "id": "yeDfHL5kuYR2"
      },
      "outputs": [],
      "source": [
        "y_array = np.array(list(y_test))\n",
        "predict_xgbr_array = np.array(predict_xgbr)\n",
        "df_values = pd.DataFrame({'Actual': y_array.flatten(), 'Predicted': predict_xgbr_array.flatten()})\n",
        "df_values"
      ]
    },
    {
      "cell_type": "code",
      "source": [
        "pip install bayesian-optimization"
      ],
      "metadata": {
        "colab": {
          "base_uri": "https://localhost:8080/"
        },
        "id": "VHyRlazUog2p",
        "outputId": "f77ad706-5854-47fd-e951-e6f3ebd7697e"
      },
      "execution_count": null,
      "outputs": [
        {
          "output_type": "stream",
          "name": "stdout",
          "text": [
            "Collecting bayesian-optimization\n",
            "  Downloading bayesian-optimization-1.2.0.tar.gz (14 kB)\n",
            "Requirement already satisfied: numpy>=1.9.0 in /usr/local/lib/python3.7/dist-packages (from bayesian-optimization) (1.19.5)\n",
            "Requirement already satisfied: scipy>=0.14.0 in /usr/local/lib/python3.7/dist-packages (from bayesian-optimization) (1.4.1)\n",
            "Requirement already satisfied: scikit-learn>=0.18.0 in /usr/local/lib/python3.7/dist-packages (from bayesian-optimization) (1.0.1)\n",
            "Requirement already satisfied: joblib>=0.11 in /usr/local/lib/python3.7/dist-packages (from scikit-learn>=0.18.0->bayesian-optimization) (1.1.0)\n",
            "Requirement already satisfied: threadpoolctl>=2.0.0 in /usr/local/lib/python3.7/dist-packages (from scikit-learn>=0.18.0->bayesian-optimization) (3.0.0)\n",
            "Building wheels for collected packages: bayesian-optimization\n",
            "  Building wheel for bayesian-optimization (setup.py) ... \u001b[?25l\u001b[?25hdone\n",
            "  Created wheel for bayesian-optimization: filename=bayesian_optimization-1.2.0-py3-none-any.whl size=11685 sha256=24d85a95aa9c9b81ac893b4507ba0c198022744adf20b852ad52a4d1f6e0f215\n",
            "  Stored in directory: /root/.cache/pip/wheels/fd/9b/71/f127d694e02eb40bcf18c7ae9613b88a6be4470f57a8528c5b\n",
            "Successfully built bayesian-optimization\n",
            "Installing collected packages: bayesian-optimization\n",
            "Successfully installed bayesian-optimization-1.2.0\n"
          ]
        }
      ]
    },
    {
      "cell_type": "code",
      "execution_count": null,
      "metadata": {
        "scrolled": true,
        "id": "GhiPaDBbpocs",
        "outputId": "1e93f8c1-44d6-4eea-d2e5-caa352cee5e8"
      },
      "outputs": [
        {
          "name": "stdout",
          "output_type": "stream",
          "text": [
            "|   iter    |  target   |   gamma   | learni... | max_depth | n_esti... |\n",
            "-------------------------------------------------------------------------\n",
            "| \u001b[0m 1       \u001b[0m | \u001b[0m 0.6427  \u001b[0m | \u001b[0m 61.22   \u001b[0m | \u001b[0m 0.1774  \u001b[0m | \u001b[0m 6.052   \u001b[0m | \u001b[0m 1.172e+0\u001b[0m |\n",
            "| \u001b[95m 2       \u001b[0m | \u001b[95m 0.6493  \u001b[0m | \u001b[95m 29.53   \u001b[0m | \u001b[95m 0.1577  \u001b[0m | \u001b[95m 3.157   \u001b[0m | \u001b[95m 676.7   \u001b[0m |\n",
            "| \u001b[0m 3       \u001b[0m | \u001b[0m 0.6106  \u001b[0m | \u001b[0m 23.87   \u001b[0m | \u001b[0m 0.3443  \u001b[0m | \u001b[0m 9.935   \u001b[0m | \u001b[0m 417.6   \u001b[0m |\n",
            "| \u001b[0m 4       \u001b[0m | \u001b[0m 0.538   \u001b[0m | \u001b[0m 8.119   \u001b[0m | \u001b[0m 0.6729  \u001b[0m | \u001b[0m 7.349   \u001b[0m | \u001b[0m 469.4   \u001b[0m |\n",
            "| \u001b[95m 5       \u001b[0m | \u001b[95m 0.6565  \u001b[0m | \u001b[95m 46.62   \u001b[0m | \u001b[95m 0.1272  \u001b[0m | \u001b[95m 3.518   \u001b[0m | \u001b[95m 1.359e+0\u001b[0m |\n",
            "| \u001b[0m 6       \u001b[0m | \u001b[0m 0.4715  \u001b[0m | \u001b[0m 79.4    \u001b[0m | \u001b[0m 0.8422  \u001b[0m | \u001b[0m 8.706   \u001b[0m | \u001b[0m 1.487e+0\u001b[0m |\n",
            "| \u001b[0m 7       \u001b[0m | \u001b[0m 0.543   \u001b[0m | \u001b[0m 57.73   \u001b[0m | \u001b[0m 0.8156  \u001b[0m | \u001b[0m 5.949   \u001b[0m | \u001b[0m 119.0   \u001b[0m |\n",
            "| \u001b[0m 8       \u001b[0m | \u001b[0m 0.6489  \u001b[0m | \u001b[0m 45.41   \u001b[0m | \u001b[0m 0.1143  \u001b[0m | \u001b[0m 8.721   \u001b[0m | \u001b[0m 1.071e+0\u001b[0m |\n",
            "| \u001b[0m 9       \u001b[0m | \u001b[0m 0.6245  \u001b[0m | \u001b[0m 56.53   \u001b[0m | \u001b[0m 0.2815  \u001b[0m | \u001b[0m 9.989   \u001b[0m | \u001b[0m 276.0   \u001b[0m |\n",
            "| \u001b[0m 10      \u001b[0m | \u001b[0m 0.5879  \u001b[0m | \u001b[0m 61.54   \u001b[0m | \u001b[0m 0.4902  \u001b[0m | \u001b[0m 5.835   \u001b[0m | \u001b[0m 1.114e+0\u001b[0m |\n",
            "| \u001b[0m 11      \u001b[0m | \u001b[0m 0.6011  \u001b[0m | \u001b[0m 32.28   \u001b[0m | \u001b[0m 0.4065  \u001b[0m | \u001b[0m 5.233   \u001b[0m | \u001b[0m 1.425e+0\u001b[0m |\n",
            "| \u001b[0m 12      \u001b[0m | \u001b[0m 0.5474  \u001b[0m | \u001b[0m 91.87   \u001b[0m | \u001b[0m 0.8157  \u001b[0m | \u001b[0m 3.239   \u001b[0m | \u001b[0m 1.42e+03\u001b[0m |\n",
            "| \u001b[0m 13      \u001b[0m | \u001b[0m 0.5004  \u001b[0m | \u001b[0m 95.04   \u001b[0m | \u001b[0m 0.8085  \u001b[0m | \u001b[0m 6.369   \u001b[0m | \u001b[0m 1.453e+0\u001b[0m |\n",
            "| \u001b[0m 14      \u001b[0m | \u001b[0m 0.6354  \u001b[0m | \u001b[0m 41.7    \u001b[0m | \u001b[0m 0.3257  \u001b[0m | \u001b[0m 3.115   \u001b[0m | \u001b[0m 134.2   \u001b[0m |\n",
            "| \u001b[0m 15      \u001b[0m | \u001b[0m 0.6405  \u001b[0m | \u001b[0m 5.309   \u001b[0m | \u001b[0m 0.1367  \u001b[0m | \u001b[0m 3.234   \u001b[0m | \u001b[0m 401.5   \u001b[0m |\n",
            "| \u001b[0m 16      \u001b[0m | \u001b[0m 0.6523  \u001b[0m | \u001b[0m 54.39   \u001b[0m | \u001b[0m 0.1868  \u001b[0m | \u001b[0m 4.255   \u001b[0m | \u001b[0m 292.5   \u001b[0m |\n",
            "| \u001b[0m 17      \u001b[0m | \u001b[0m 0.5907  \u001b[0m | \u001b[0m 68.3    \u001b[0m | \u001b[0m 0.4743  \u001b[0m | \u001b[0m 8.378   \u001b[0m | \u001b[0m 1.03e+03\u001b[0m |\n",
            "| \u001b[0m 18      \u001b[0m | \u001b[0m 0.5605  \u001b[0m | \u001b[0m 44.13   \u001b[0m | \u001b[0m 0.5993  \u001b[0m | \u001b[0m 6.232   \u001b[0m | \u001b[0m 1.448e+0\u001b[0m |\n",
            "| \u001b[0m 19      \u001b[0m | \u001b[0m 0.4578  \u001b[0m | \u001b[0m 14.78   \u001b[0m | \u001b[0m 0.9077  \u001b[0m | \u001b[0m 6.485   \u001b[0m | \u001b[0m 921.3   \u001b[0m |\n",
            "| \u001b[0m 20      \u001b[0m | \u001b[0m 0.6415  \u001b[0m | \u001b[0m 68.47   \u001b[0m | \u001b[0m 0.1857  \u001b[0m | \u001b[0m 9.053   \u001b[0m | \u001b[0m 764.6   \u001b[0m |\n",
            "| \u001b[0m 21      \u001b[0m | \u001b[0m 0.3583  \u001b[0m | \u001b[0m 10.81   \u001b[0m | \u001b[0m 0.01    \u001b[0m | \u001b[0m 3.0     \u001b[0m | \u001b[0m 162.8   \u001b[0m |\n",
            "| \u001b[0m 22      \u001b[0m | \u001b[0m 0.4766  \u001b[0m | \u001b[0m 43.73   \u001b[0m | \u001b[0m 0.8347  \u001b[0m | \u001b[0m 8.67    \u001b[0m | \u001b[0m 1.071e+0\u001b[0m |\n",
            "| \u001b[0m 23      \u001b[0m | \u001b[0m 0.6552  \u001b[0m | \u001b[0m 71.68   \u001b[0m | \u001b[0m 0.03117 \u001b[0m | \u001b[0m 9.626   \u001b[0m | \u001b[0m 391.1   \u001b[0m |\n",
            "| \u001b[0m 24      \u001b[0m | \u001b[0m 0.6409  \u001b[0m | \u001b[0m 85.96   \u001b[0m | \u001b[0m 0.3072  \u001b[0m | \u001b[0m 4.135   \u001b[0m | \u001b[0m 967.5   \u001b[0m |\n",
            "=========================================================================\n",
            "It takes 59.763181094328566 minutes\n"
          ]
        }
      ],
      "source": [
        "from bayes_opt import BayesianOptimization\n",
        "\n",
        "def xgbm_cl_bo(max_depth, learning_rate, n_estimators, gamma):\n",
        "    params_xgbm = {}\n",
        "    params_xgbm['max_depth'] = round(max_depth)\n",
        "    params_xgbm['learning_rate'] = learning_rate\n",
        "    params_xgbm['n_estimators'] = round(n_estimators)\n",
        "    params_xgbm['gamma'] = gamma\n",
        "    scores = cross_val_score(xgb.XGBRegressor(random_state=123, **params_gbm),\n",
        "                             X_train, y_train, cv=5).mean()\n",
        "    score = scores.mean()\n",
        "    return score\n",
        "\n",
        "\n",
        "start = time.time()\n",
        "params_xgbm ={\n",
        "    'max_depth':(3, 10),\n",
        "    'learning_rate':(0.01, 1),\n",
        "    'n_estimators':(80, 1500),\n",
        "    'gamma': (0, 100)\n",
        "}\n",
        "xgbm_bo = BayesianOptimization(xgbm_cl_bo, params_xgbm, random_state=111)\n",
        "xgbm_bo.maximize(init_points=20, n_iter=4)"
      ]
    },
    {
      "cell_type": "code",
      "execution_count": null,
      "metadata": {
        "scrolled": false,
        "id": "Ljr5x4o2pocs",
        "outputId": "31f7d0e8-9549-45ec-adf5-47bbec48826b"
      },
      "outputs": [
        {
          "name": "stdout",
          "output_type": "stream",
          "text": [
            "[22:52:21] WARNING: C:/Users/Administrator/workspace/xgboost-win64_release_1.5.1/src/objective/regression_obj.cu:188: reg:linear is now deprecated in favor of reg:squarederror.\n"
          ]
        }
      ],
      "source": [
        "xgbr = xgb.XGBRegressor (n_estimators=967,learning_rate=0.08,gamma=86,max_depth=9,objective='reg:linear')\n",
        "xgbr.fit(X_train, y_train)\n",
        "predict_xgbr = xgbr.predict(X_test)"
      ]
    },
    {
      "cell_type": "code",
      "execution_count": null,
      "metadata": {
        "scrolled": false,
        "id": "WAMC00TBpocs",
        "outputId": "37fa9bbd-370b-4bd5-db56-7e3f67e2cf8d"
      },
      "outputs": [
        {
          "name": "stdout",
          "output_type": "stream",
          "text": [
            "\n",
            "MAE: 29\n",
            "\n",
            "MSE: 1760.6226\n",
            "\n",
            "RMSE: 41.9598\n",
            "\n",
            "R^2: 0.6675\n"
          ]
        }
      ],
      "source": [
        "print(\"\\nMAE:\", round(mean_absolute_error(predict_xgbr,y_test)))\n",
        "print(\"\\nMSE:\", round(mean_squared_error(y_test,predict_xgbr),4))\n",
        "print(\"\\nRMSE:\", round(math.sqrt(mean_squared_error(y_test, predict_xgbr)),4))\n",
        "print(\"\\nR^2:\", round(r2_score(y_test,predict_xgbr),4))"
      ]
    },
    {
      "cell_type": "code",
      "execution_count": null,
      "metadata": {
        "id": "AydlBFvUpocs",
        "outputId": "51a6ee25-97a0-4b79-f236-dfb96553bb14"
      },
      "outputs": [
        {
          "data": {
            "text/plain": [
              "71.15918725332554"
            ]
          },
          "execution_count": 65,
          "metadata": {},
          "output_type": "execute_result"
        }
      ],
      "source": [
        "perform_scoring(predict_xgbr,y_test)"
      ]
    }
  ],
  "metadata": {
    "colab": {
      "name": "AirBNB pricing prediction analysis Praharshita Kaithepalli.ipynb",
      "provenance": []
    },
    "kernelspec": {
      "display_name": "Python 3",
      "name": "python3"
    },
    "language_info": {
      "name": "python"
    }
  },
  "nbformat": 4,
  "nbformat_minor": 0
}